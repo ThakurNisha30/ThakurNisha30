{
 "cells": [
  {
   "cell_type": "markdown",
   "id": "db073d5a",
   "metadata": {},
   "source": [
    "# Data Preprocessing"
   ]
  },
  {
   "cell_type": "code",
   "execution_count": 90,
   "id": "3fe84e23",
   "metadata": {},
   "outputs": [
    {
     "data": {
      "text/html": [
       "<div>\n",
       "<style scoped>\n",
       "    .dataframe tbody tr th:only-of-type {\n",
       "        vertical-align: middle;\n",
       "    }\n",
       "\n",
       "    .dataframe tbody tr th {\n",
       "        vertical-align: top;\n",
       "    }\n",
       "\n",
       "    .dataframe thead th {\n",
       "        text-align: right;\n",
       "    }\n",
       "</style>\n",
       "<table border=\"1\" class=\"dataframe\">\n",
       "  <thead>\n",
       "    <tr style=\"text-align: right;\">\n",
       "      <th></th>\n",
       "      <th>Posted On</th>\n",
       "      <th>BHK</th>\n",
       "      <th>Rent</th>\n",
       "      <th>Size</th>\n",
       "      <th>Floor</th>\n",
       "      <th>Area Type</th>\n",
       "      <th>Area Locality</th>\n",
       "      <th>City</th>\n",
       "      <th>Furnishing Status</th>\n",
       "      <th>Tenant Preferred</th>\n",
       "      <th>Bathroom</th>\n",
       "      <th>Point of Contact</th>\n",
       "    </tr>\n",
       "  </thead>\n",
       "  <tbody>\n",
       "    <tr>\n",
       "      <th>0</th>\n",
       "      <td>2022-05-18</td>\n",
       "      <td>2</td>\n",
       "      <td>10000</td>\n",
       "      <td>1100</td>\n",
       "      <td>Ground out of 2</td>\n",
       "      <td>Super Area</td>\n",
       "      <td>Bandel</td>\n",
       "      <td>Kolkata</td>\n",
       "      <td>Unfurnished</td>\n",
       "      <td>Bachelors/Family</td>\n",
       "      <td>2</td>\n",
       "      <td>Contact Owner</td>\n",
       "    </tr>\n",
       "    <tr>\n",
       "      <th>1</th>\n",
       "      <td>2022-05-13</td>\n",
       "      <td>2</td>\n",
       "      <td>20000</td>\n",
       "      <td>800</td>\n",
       "      <td>1 out of 3</td>\n",
       "      <td>Super Area</td>\n",
       "      <td>Phool Bagan, Kankurgachi</td>\n",
       "      <td>Kolkata</td>\n",
       "      <td>Semi-Furnished</td>\n",
       "      <td>Bachelors/Family</td>\n",
       "      <td>1</td>\n",
       "      <td>Contact Owner</td>\n",
       "    </tr>\n",
       "    <tr>\n",
       "      <th>2</th>\n",
       "      <td>2022-05-16</td>\n",
       "      <td>2</td>\n",
       "      <td>17000</td>\n",
       "      <td>1000</td>\n",
       "      <td>1 out of 3</td>\n",
       "      <td>Super Area</td>\n",
       "      <td>Salt Lake City Sector 2</td>\n",
       "      <td>Kolkata</td>\n",
       "      <td>Semi-Furnished</td>\n",
       "      <td>Bachelors/Family</td>\n",
       "      <td>1</td>\n",
       "      <td>Contact Owner</td>\n",
       "    </tr>\n",
       "    <tr>\n",
       "      <th>3</th>\n",
       "      <td>2022-07-04</td>\n",
       "      <td>2</td>\n",
       "      <td>10000</td>\n",
       "      <td>800</td>\n",
       "      <td>1 out of 2</td>\n",
       "      <td>Super Area</td>\n",
       "      <td>Dumdum Park</td>\n",
       "      <td>Kolkata</td>\n",
       "      <td>Unfurnished</td>\n",
       "      <td>Bachelors/Family</td>\n",
       "      <td>1</td>\n",
       "      <td>Contact Owner</td>\n",
       "    </tr>\n",
       "    <tr>\n",
       "      <th>4</th>\n",
       "      <td>2022-05-09</td>\n",
       "      <td>2</td>\n",
       "      <td>7500</td>\n",
       "      <td>850</td>\n",
       "      <td>1 out of 2</td>\n",
       "      <td>Carpet Area</td>\n",
       "      <td>South Dum Dum</td>\n",
       "      <td>Kolkata</td>\n",
       "      <td>Unfurnished</td>\n",
       "      <td>Bachelors</td>\n",
       "      <td>1</td>\n",
       "      <td>Contact Owner</td>\n",
       "    </tr>\n",
       "  </tbody>\n",
       "</table>\n",
       "</div>"
      ],
      "text/plain": [
       "    Posted On  BHK   Rent  Size            Floor    Area Type  \\\n",
       "0  2022-05-18    2  10000  1100  Ground out of 2   Super Area   \n",
       "1  2022-05-13    2  20000   800       1 out of 3   Super Area   \n",
       "2  2022-05-16    2  17000  1000       1 out of 3   Super Area   \n",
       "3  2022-07-04    2  10000   800       1 out of 2   Super Area   \n",
       "4  2022-05-09    2   7500   850       1 out of 2  Carpet Area   \n",
       "\n",
       "              Area Locality     City Furnishing Status  Tenant Preferred  \\\n",
       "0                    Bandel  Kolkata       Unfurnished  Bachelors/Family   \n",
       "1  Phool Bagan, Kankurgachi  Kolkata    Semi-Furnished  Bachelors/Family   \n",
       "2   Salt Lake City Sector 2  Kolkata    Semi-Furnished  Bachelors/Family   \n",
       "3               Dumdum Park  Kolkata       Unfurnished  Bachelors/Family   \n",
       "4             South Dum Dum  Kolkata       Unfurnished         Bachelors   \n",
       "\n",
       "   Bathroom Point of Contact  \n",
       "0         2    Contact Owner  \n",
       "1         1    Contact Owner  \n",
       "2         1    Contact Owner  \n",
       "3         1    Contact Owner  \n",
       "4         1    Contact Owner  "
      ]
     },
     "execution_count": 90,
     "metadata": {},
     "output_type": "execute_result"
    }
   ],
   "source": [
    "#we have imported the house rent dataset csv file using pandas and read the file. Header is considered to be 0 as the first coumns are the heading of the data files\n",
    "import pandas as pd\n",
    "\n",
    "df = pd.read_csv('House_Rent_Dataset final.csv', header=0)\n",
    "\n",
    "#head is used to see the first 5 rows of the dataset\n",
    "df.head()"
   ]
  },
  {
   "cell_type": "code",
   "execution_count": 91,
   "id": "c33b6b7b",
   "metadata": {},
   "outputs": [
    {
     "name": "stdout",
     "output_type": "stream",
     "text": [
      "The number of rows and columns respectively are  (4746, 12)\n"
     ]
    }
   ],
   "source": [
    "# Data frame . shape helps us to understand the number of rows and columns in the data set\n",
    "print('The number of rows and columns respectively are ', df.shape)"
   ]
  },
  {
   "cell_type": "code",
   "execution_count": 92,
   "id": "11ac3c3c",
   "metadata": {},
   "outputs": [
    {
     "name": "stdout",
     "output_type": "stream",
     "text": [
      "Data frame information: \n",
      "<class 'pandas.core.frame.DataFrame'>\n",
      "RangeIndex: 4746 entries, 0 to 4745\n",
      "Data columns (total 12 columns):\n",
      " #   Column             Non-Null Count  Dtype \n",
      "---  ------             --------------  ----- \n",
      " 0   Posted On          4746 non-null   object\n",
      " 1   BHK                4746 non-null   int64 \n",
      " 2   Rent               4746 non-null   int64 \n",
      " 3   Size               4746 non-null   int64 \n",
      " 4   Floor              4746 non-null   object\n",
      " 5   Area Type          4746 non-null   object\n",
      " 6   Area Locality      4746 non-null   object\n",
      " 7   City               4746 non-null   object\n",
      " 8   Furnishing Status  4746 non-null   object\n",
      " 9   Tenant Preferred   4746 non-null   object\n",
      " 10  Bathroom           4746 non-null   int64 \n",
      " 11  Point of Contact   4746 non-null   object\n",
      "dtypes: int64(4), object(8)\n",
      "memory usage: 445.1+ KB\n"
     ]
    }
   ],
   "source": [
    "#The data tells about the information regarding the dataset i.e The datatype of the variables, The number of rows and coulmn, The null values details\n",
    "print('Data frame information: ')\n",
    "\n",
    "df.info()"
   ]
  },
  {
   "cell_type": "code",
   "execution_count": 93,
   "id": "948d5523",
   "metadata": {},
   "outputs": [
    {
     "name": "stdout",
     "output_type": "stream",
     "text": [
      "Data Frame Description , BHK means 1 Bathroom, Hall and Kitchen , Size is in form of Square feet Bathroom is the number of washrooms in the house\n"
     ]
    },
    {
     "data": {
      "text/html": [
       "<div>\n",
       "<style scoped>\n",
       "    .dataframe tbody tr th:only-of-type {\n",
       "        vertical-align: middle;\n",
       "    }\n",
       "\n",
       "    .dataframe tbody tr th {\n",
       "        vertical-align: top;\n",
       "    }\n",
       "\n",
       "    .dataframe thead th {\n",
       "        text-align: right;\n",
       "    }\n",
       "</style>\n",
       "<table border=\"1\" class=\"dataframe\">\n",
       "  <thead>\n",
       "    <tr style=\"text-align: right;\">\n",
       "      <th></th>\n",
       "      <th>BHK</th>\n",
       "      <th>Rent</th>\n",
       "      <th>Size</th>\n",
       "      <th>Bathroom</th>\n",
       "    </tr>\n",
       "  </thead>\n",
       "  <tbody>\n",
       "    <tr>\n",
       "      <th>count</th>\n",
       "      <td>4746.000000</td>\n",
       "      <td>4.746000e+03</td>\n",
       "      <td>4746.000000</td>\n",
       "      <td>4746.000000</td>\n",
       "    </tr>\n",
       "    <tr>\n",
       "      <th>mean</th>\n",
       "      <td>2.083860</td>\n",
       "      <td>3.499345e+04</td>\n",
       "      <td>967.490729</td>\n",
       "      <td>1.965866</td>\n",
       "    </tr>\n",
       "    <tr>\n",
       "      <th>std</th>\n",
       "      <td>0.832256</td>\n",
       "      <td>7.810641e+04</td>\n",
       "      <td>634.202328</td>\n",
       "      <td>0.884532</td>\n",
       "    </tr>\n",
       "    <tr>\n",
       "      <th>min</th>\n",
       "      <td>1.000000</td>\n",
       "      <td>1.200000e+03</td>\n",
       "      <td>10.000000</td>\n",
       "      <td>1.000000</td>\n",
       "    </tr>\n",
       "    <tr>\n",
       "      <th>25%</th>\n",
       "      <td>2.000000</td>\n",
       "      <td>1.000000e+04</td>\n",
       "      <td>550.000000</td>\n",
       "      <td>1.000000</td>\n",
       "    </tr>\n",
       "    <tr>\n",
       "      <th>50%</th>\n",
       "      <td>2.000000</td>\n",
       "      <td>1.600000e+04</td>\n",
       "      <td>850.000000</td>\n",
       "      <td>2.000000</td>\n",
       "    </tr>\n",
       "    <tr>\n",
       "      <th>75%</th>\n",
       "      <td>3.000000</td>\n",
       "      <td>3.300000e+04</td>\n",
       "      <td>1200.000000</td>\n",
       "      <td>2.000000</td>\n",
       "    </tr>\n",
       "    <tr>\n",
       "      <th>max</th>\n",
       "      <td>6.000000</td>\n",
       "      <td>3.500000e+06</td>\n",
       "      <td>8000.000000</td>\n",
       "      <td>10.000000</td>\n",
       "    </tr>\n",
       "  </tbody>\n",
       "</table>\n",
       "</div>"
      ],
      "text/plain": [
       "               BHK          Rent         Size     Bathroom\n",
       "count  4746.000000  4.746000e+03  4746.000000  4746.000000\n",
       "mean      2.083860  3.499345e+04   967.490729     1.965866\n",
       "std       0.832256  7.810641e+04   634.202328     0.884532\n",
       "min       1.000000  1.200000e+03    10.000000     1.000000\n",
       "25%       2.000000  1.000000e+04   550.000000     1.000000\n",
       "50%       2.000000  1.600000e+04   850.000000     2.000000\n",
       "75%       3.000000  3.300000e+04  1200.000000     2.000000\n",
       "max       6.000000  3.500000e+06  8000.000000    10.000000"
      ]
     },
     "execution_count": 93,
     "metadata": {},
     "output_type": "execute_result"
    }
   ],
   "source": [
    "print(\"Data Frame Description\"\n",
    "      \" , BHK means 1 Bathroom, Hall and Kitchen\", \n",
    "      ', Size is in form of Square feet', \n",
    "      'Bathroom is the number of washrooms in the house')\n",
    "\n",
    "df.describe()"
   ]
  },
  {
   "cell_type": "markdown",
   "id": "bf6f9780",
   "metadata": {},
   "source": [
    "The describe function tells about the description of the dataset i.e \n",
    "- The dataset which included the variables have 4746 rows\n",
    "- the mean of BHK is 2.08\n",
    "- the standard deviation is 0.8 for BHK\n",
    "- BHK(Bedroom, Hall, Kitchen) where the min BHK is 1 and max BHK is 6\n",
    "-  25%\n",
    "-  50%\n",
    "-  75%\n"
   ]
  },
  {
   "cell_type": "code",
   "execution_count": 94,
   "id": "ac854e81",
   "metadata": {},
   "outputs": [
    {
     "data": {
      "text/html": [
       "<div>\n",
       "<style scoped>\n",
       "    .dataframe tbody tr th:only-of-type {\n",
       "        vertical-align: middle;\n",
       "    }\n",
       "\n",
       "    .dataframe tbody tr th {\n",
       "        vertical-align: top;\n",
       "    }\n",
       "\n",
       "    .dataframe thead th {\n",
       "        text-align: right;\n",
       "    }\n",
       "</style>\n",
       "<table border=\"1\" class=\"dataframe\">\n",
       "  <thead>\n",
       "    <tr style=\"text-align: right;\">\n",
       "      <th></th>\n",
       "      <th>Posted On</th>\n",
       "      <th>BHK</th>\n",
       "      <th>Rent</th>\n",
       "      <th>Size</th>\n",
       "      <th>Floor</th>\n",
       "      <th>Area Type</th>\n",
       "      <th>Area Locality</th>\n",
       "      <th>City</th>\n",
       "      <th>Furnishing Status</th>\n",
       "      <th>Tenant Preferred</th>\n",
       "      <th>Bathroom</th>\n",
       "      <th>Point of Contact</th>\n",
       "    </tr>\n",
       "  </thead>\n",
       "  <tbody>\n",
       "    <tr>\n",
       "      <th>0</th>\n",
       "      <td>False</td>\n",
       "      <td>False</td>\n",
       "      <td>False</td>\n",
       "      <td>False</td>\n",
       "      <td>False</td>\n",
       "      <td>False</td>\n",
       "      <td>False</td>\n",
       "      <td>False</td>\n",
       "      <td>False</td>\n",
       "      <td>False</td>\n",
       "      <td>False</td>\n",
       "      <td>False</td>\n",
       "    </tr>\n",
       "    <tr>\n",
       "      <th>1</th>\n",
       "      <td>False</td>\n",
       "      <td>False</td>\n",
       "      <td>False</td>\n",
       "      <td>False</td>\n",
       "      <td>False</td>\n",
       "      <td>False</td>\n",
       "      <td>False</td>\n",
       "      <td>False</td>\n",
       "      <td>False</td>\n",
       "      <td>False</td>\n",
       "      <td>False</td>\n",
       "      <td>False</td>\n",
       "    </tr>\n",
       "    <tr>\n",
       "      <th>2</th>\n",
       "      <td>False</td>\n",
       "      <td>False</td>\n",
       "      <td>False</td>\n",
       "      <td>False</td>\n",
       "      <td>False</td>\n",
       "      <td>False</td>\n",
       "      <td>False</td>\n",
       "      <td>False</td>\n",
       "      <td>False</td>\n",
       "      <td>False</td>\n",
       "      <td>False</td>\n",
       "      <td>False</td>\n",
       "    </tr>\n",
       "    <tr>\n",
       "      <th>3</th>\n",
       "      <td>False</td>\n",
       "      <td>False</td>\n",
       "      <td>False</td>\n",
       "      <td>False</td>\n",
       "      <td>False</td>\n",
       "      <td>False</td>\n",
       "      <td>False</td>\n",
       "      <td>False</td>\n",
       "      <td>False</td>\n",
       "      <td>False</td>\n",
       "      <td>False</td>\n",
       "      <td>False</td>\n",
       "    </tr>\n",
       "    <tr>\n",
       "      <th>4</th>\n",
       "      <td>False</td>\n",
       "      <td>False</td>\n",
       "      <td>False</td>\n",
       "      <td>False</td>\n",
       "      <td>False</td>\n",
       "      <td>False</td>\n",
       "      <td>False</td>\n",
       "      <td>False</td>\n",
       "      <td>False</td>\n",
       "      <td>False</td>\n",
       "      <td>False</td>\n",
       "      <td>False</td>\n",
       "    </tr>\n",
       "    <tr>\n",
       "      <th>...</th>\n",
       "      <td>...</td>\n",
       "      <td>...</td>\n",
       "      <td>...</td>\n",
       "      <td>...</td>\n",
       "      <td>...</td>\n",
       "      <td>...</td>\n",
       "      <td>...</td>\n",
       "      <td>...</td>\n",
       "      <td>...</td>\n",
       "      <td>...</td>\n",
       "      <td>...</td>\n",
       "      <td>...</td>\n",
       "    </tr>\n",
       "    <tr>\n",
       "      <th>4741</th>\n",
       "      <td>False</td>\n",
       "      <td>False</td>\n",
       "      <td>False</td>\n",
       "      <td>False</td>\n",
       "      <td>False</td>\n",
       "      <td>False</td>\n",
       "      <td>False</td>\n",
       "      <td>False</td>\n",
       "      <td>False</td>\n",
       "      <td>False</td>\n",
       "      <td>False</td>\n",
       "      <td>False</td>\n",
       "    </tr>\n",
       "    <tr>\n",
       "      <th>4742</th>\n",
       "      <td>False</td>\n",
       "      <td>False</td>\n",
       "      <td>False</td>\n",
       "      <td>False</td>\n",
       "      <td>False</td>\n",
       "      <td>False</td>\n",
       "      <td>False</td>\n",
       "      <td>False</td>\n",
       "      <td>False</td>\n",
       "      <td>False</td>\n",
       "      <td>False</td>\n",
       "      <td>False</td>\n",
       "    </tr>\n",
       "    <tr>\n",
       "      <th>4743</th>\n",
       "      <td>False</td>\n",
       "      <td>False</td>\n",
       "      <td>False</td>\n",
       "      <td>False</td>\n",
       "      <td>False</td>\n",
       "      <td>False</td>\n",
       "      <td>False</td>\n",
       "      <td>False</td>\n",
       "      <td>False</td>\n",
       "      <td>False</td>\n",
       "      <td>False</td>\n",
       "      <td>False</td>\n",
       "    </tr>\n",
       "    <tr>\n",
       "      <th>4744</th>\n",
       "      <td>False</td>\n",
       "      <td>False</td>\n",
       "      <td>False</td>\n",
       "      <td>False</td>\n",
       "      <td>False</td>\n",
       "      <td>False</td>\n",
       "      <td>False</td>\n",
       "      <td>False</td>\n",
       "      <td>False</td>\n",
       "      <td>False</td>\n",
       "      <td>False</td>\n",
       "      <td>False</td>\n",
       "    </tr>\n",
       "    <tr>\n",
       "      <th>4745</th>\n",
       "      <td>False</td>\n",
       "      <td>False</td>\n",
       "      <td>False</td>\n",
       "      <td>False</td>\n",
       "      <td>False</td>\n",
       "      <td>False</td>\n",
       "      <td>False</td>\n",
       "      <td>False</td>\n",
       "      <td>False</td>\n",
       "      <td>False</td>\n",
       "      <td>False</td>\n",
       "      <td>False</td>\n",
       "    </tr>\n",
       "  </tbody>\n",
       "</table>\n",
       "<p>4746 rows × 12 columns</p>\n",
       "</div>"
      ],
      "text/plain": [
       "      Posted On    BHK   Rent   Size  Floor  Area Type  Area Locality   City  \\\n",
       "0         False  False  False  False  False      False          False  False   \n",
       "1         False  False  False  False  False      False          False  False   \n",
       "2         False  False  False  False  False      False          False  False   \n",
       "3         False  False  False  False  False      False          False  False   \n",
       "4         False  False  False  False  False      False          False  False   \n",
       "...         ...    ...    ...    ...    ...        ...            ...    ...   \n",
       "4741      False  False  False  False  False      False          False  False   \n",
       "4742      False  False  False  False  False      False          False  False   \n",
       "4743      False  False  False  False  False      False          False  False   \n",
       "4744      False  False  False  False  False      False          False  False   \n",
       "4745      False  False  False  False  False      False          False  False   \n",
       "\n",
       "      Furnishing Status  Tenant Preferred  Bathroom  Point of Contact  \n",
       "0                 False             False     False             False  \n",
       "1                 False             False     False             False  \n",
       "2                 False             False     False             False  \n",
       "3                 False             False     False             False  \n",
       "4                 False             False     False             False  \n",
       "...                 ...               ...       ...               ...  \n",
       "4741              False             False     False             False  \n",
       "4742              False             False     False             False  \n",
       "4743              False             False     False             False  \n",
       "4744              False             False     False             False  \n",
       "4745              False             False     False             False  \n",
       "\n",
       "[4746 rows x 12 columns]"
      ]
     },
     "execution_count": 94,
     "metadata": {},
     "output_type": "execute_result"
    }
   ],
   "source": [
    "#isnull command tells about the null values presecence in the dataset, which returns as boolean values, if there is a null valuee then the output will be True. But it is hard to understand from this information\n",
    "df.isnull()\n"
   ]
  },
  {
   "cell_type": "code",
   "execution_count": 95,
   "id": "42269537",
   "metadata": {},
   "outputs": [
    {
     "data": {
      "text/plain": [
       "Posted On            0\n",
       "BHK                  0\n",
       "Rent                 0\n",
       "Size                 0\n",
       "Floor                0\n",
       "Area Type            0\n",
       "Area Locality        0\n",
       "City                 0\n",
       "Furnishing Status    0\n",
       "Tenant Preferred     0\n",
       "Bathroom             0\n",
       "Point of Contact     0\n",
       "dtype: int64"
      ]
     },
     "execution_count": 95,
     "metadata": {},
     "output_type": "execute_result"
    }
   ],
   "source": [
    "#The sum of the null values in the dataset can be understood through the below commend, where there are no null vales in the dataset\n",
    "df.isnull().sum()"
   ]
  },
  {
   "cell_type": "code",
   "execution_count": 96,
   "id": "7dee42f2",
   "metadata": {},
   "outputs": [
    {
     "data": {
      "text/plain": [
       "0       False\n",
       "1       False\n",
       "2       False\n",
       "3       False\n",
       "4       False\n",
       "        ...  \n",
       "4741    False\n",
       "4742    False\n",
       "4743    False\n",
       "4744    False\n",
       "4745    False\n",
       "Length: 4746, dtype: bool"
      ]
     },
     "execution_count": 96,
     "metadata": {},
     "output_type": "execute_result"
    }
   ],
   "source": [
    "#Checking the duplicated values in the dataset is very important, we found that there are no duplicated values in the dataset\n",
    "df.duplicated()"
   ]
  },
  {
   "cell_type": "code",
   "execution_count": 97,
   "id": "0a9f22cf",
   "metadata": {},
   "outputs": [
    {
     "data": {
      "text/plain": [
       "0"
      ]
     },
     "execution_count": 97,
     "metadata": {},
     "output_type": "execute_result"
    }
   ],
   "source": [
    "df.duplicated().sum()"
   ]
  },
  {
   "cell_type": "code",
   "execution_count": 98,
   "id": "607d3117",
   "metadata": {},
   "outputs": [
    {
     "name": "stderr",
     "output_type": "stream",
     "text": [
      "/Users/nishathakur/opt/anaconda3/lib/python3.9/site-packages/seaborn/_decorators.py:36: FutureWarning: Pass the following variable as a keyword arg: x. From version 0.12, the only valid positional argument will be `data`, and passing other arguments without an explicit keyword will result in an error or misinterpretation.\n",
      "  warnings.warn(\n"
     ]
    },
    {
     "data": {
      "text/plain": [
       "<AxesSubplot:xlabel='Rent'>"
      ]
     },
     "execution_count": 98,
     "metadata": {},
     "output_type": "execute_result"
    },
    {
     "data": {
      "image/png": "[encoded data removed]",
      "text/plain": [
       "<Figure size 432x288 with 1 Axes>"
      ]
     },
     "metadata": {
      "needs_background": "light"
     },
     "output_type": "display_data"
    }
   ],
   "source": [
    "import seaborn as sns\n",
    "import pandas as pd \n",
    "import matplotlib.pyplot as plt\n",
    "\n",
    "sns.boxplot(df['Rent'])"
   ]
  },
  {
   "cell_type": "markdown",
   "id": "2e576b2f",
   "metadata": {},
   "source": [
    "Box Plot is the visual representation of the depicting groups of numerical data through their quartiles. Boxplot is also used for detect the outlier in data set. It captures the summary of the data efficiently with a simple box and whiskers and allows us to compare easily across groups. Boxplot summarizes a sample data using 25th, 50th and 75th percentiles. These percentiles are also known as the lower quartile, median and upper quartile.\n",
    "\n",
    "A box plot consist of 5 things.\n",
    "\n",
    "- Minimum\n",
    "- First Quartile or 25%\n",
    "- Median (Second Quartile) or 50%\n",
    "- Third Quartile or 75%\n",
    "- Maximum"
   ]
  },
  {
   "cell_type": "markdown",
   "id": "ac2a6a98",
   "metadata": {},
   "source": [
    "Analysis of Box plot : \n",
    "- The dataset vaiable rent has outliers as per the box plot (indicated by diamond dots, which has to be eliminated for accurary of the data)"
   ]
  },
  {
   "cell_type": "code",
   "execution_count": 99,
   "id": "5a081053",
   "metadata": {},
   "outputs": [],
   "source": [
    "df.drop(df[(df['Rent'] > df['Rent'].mean() + 2 * df['Rent'].std()) | (df['Rent'] < df['Rent'].mean() - 2 * df['Rent'].std())].index, inplace=True)"
   ]
  },
  {
   "cell_type": "code",
   "execution_count": 100,
   "id": "bfcd106c",
   "metadata": {},
   "outputs": [
    {
     "data": {
      "text/plain": [
       "(4632, 12)"
      ]
     },
     "execution_count": 100,
     "metadata": {},
     "output_type": "execute_result"
    }
   ],
   "source": [
    "df.shape"
   ]
  },
  {
   "cell_type": "code",
   "execution_count": 101,
   "id": "bd1de35a",
   "metadata": {},
   "outputs": [
    {
     "name": "stderr",
     "output_type": "stream",
     "text": [
      "/Users/nishathakur/opt/anaconda3/lib/python3.9/site-packages/seaborn/_decorators.py:36: FutureWarning: Pass the following variable as a keyword arg: x. From version 0.12, the only valid positional argument will be `data`, and passing other arguments without an explicit keyword will result in an error or misinterpretation.\n",
      "  warnings.warn(\n"
     ]
    },
    {
     "data": {
      "text/plain": [
       "<AxesSubplot:xlabel='Rent'>"
      ]
     },
     "execution_count": 101,
     "metadata": {},
     "output_type": "execute_result"
    },
    {
     "data": {
      "image/png": "[encoded data removed]",
      "text/plain": [
       "<Figure size 432x288 with 1 Axes>"
      ]
     },
     "metadata": {
      "needs_background": "light"
     },
     "output_type": "display_data"
    }
   ],
   "source": [
    "sns.boxplot(df['Rent'])"
   ]
  },
  {
   "cell_type": "markdown",
   "id": "03838ca2",
   "metadata": {},
   "source": [
    "Let’s take the first box plot i.e, blue box plot of the figure and understand these statistical things:\n",
    "\n",
    "- Bottom black vertical line of blue box plot is minimum value\n",
    "- First black vertical line of rectangle shape of blue box plot is First quartile or 25%\n",
    "- Second black vertical line of rectangle shape of blue box plot is Second quartile or 50% or median.\n",
    "- Third black vertical line of rectangle shape of blue box plot is third quartile or 75%\n",
    "- Top black vertical line of rectangle shape of blue box plot is maximum value.\n",
    "- Small diamond shape of blue box plot is outlier data or erroneous data."
   ]
  },
  {
   "cell_type": "code",
   "execution_count": 102,
   "id": "5236a306",
   "metadata": {},
   "outputs": [],
   "source": [
    "# The +2SD and -2SD data is removed \n",
    "df.drop(df[(df['Rent'] > df['Rent'].mean() + 2 * df['Rent'].std()) | (df['Rent'] < df['Rent'].mean() - 2 * df['Rent'].std())].index, inplace=True)"
   ]
  },
  {
   "cell_type": "code",
   "execution_count": 103,
   "id": "33145da8",
   "metadata": {},
   "outputs": [
    {
     "data": {
      "text/plain": [
       "(4379, 12)"
      ]
     },
     "execution_count": 103,
     "metadata": {},
     "output_type": "execute_result"
    }
   ],
   "source": [
    "df.shape"
   ]
  },
  {
   "cell_type": "code",
   "execution_count": 104,
   "id": "109356a6",
   "metadata": {},
   "outputs": [
    {
     "name": "stderr",
     "output_type": "stream",
     "text": [
      "/Users/nishathakur/opt/anaconda3/lib/python3.9/site-packages/seaborn/_decorators.py:36: FutureWarning: Pass the following variable as a keyword arg: x. From version 0.12, the only valid positional argument will be `data`, and passing other arguments without an explicit keyword will result in an error or misinterpretation.\n",
      "  warnings.warn(\n"
     ]
    },
    {
     "data": {
      "text/plain": [
       "<AxesSubplot:xlabel='Rent'>"
      ]
     },
     "execution_count": 104,
     "metadata": {},
     "output_type": "execute_result"
    },
    {
     "data": {
      "image/png": "[encoded data removed]",
      "text/plain": [
       "<Figure size 432x288 with 1 Axes>"
      ]
     },
     "metadata": {
      "needs_background": "light"
     },
     "output_type": "display_data"
    }
   ],
   "source": [
    "sns.boxplot(df['Rent'])"
   ]
  },
  {
   "cell_type": "code",
   "execution_count": 105,
   "id": "db549dbc",
   "metadata": {},
   "outputs": [],
   "source": [
    "df.drop(df[(df['Rent'] > df['Rent'].mean() + 2 * df['Rent'].std()) | (df['Rent'] < df['Rent'].mean() - 2 * df['Rent'].std())].index, inplace=True)"
   ]
  },
  {
   "cell_type": "code",
   "execution_count": 106,
   "id": "1a52f4d4",
   "metadata": {},
   "outputs": [
    {
     "data": {
      "text/plain": [
       "(4108, 12)"
      ]
     },
     "execution_count": 106,
     "metadata": {},
     "output_type": "execute_result"
    }
   ],
   "source": [
    "df.shape"
   ]
  },
  {
   "cell_type": "code",
   "execution_count": 107,
   "id": "3a113367",
   "metadata": {},
   "outputs": [
    {
     "name": "stderr",
     "output_type": "stream",
     "text": [
      "/Users/nishathakur/opt/anaconda3/lib/python3.9/site-packages/seaborn/_decorators.py:36: FutureWarning: Pass the following variable as a keyword arg: x. From version 0.12, the only valid positional argument will be `data`, and passing other arguments without an explicit keyword will result in an error or misinterpretation.\n",
      "  warnings.warn(\n"
     ]
    },
    {
     "data": {
      "text/plain": [
       "<AxesSubplot:xlabel='Rent'>"
      ]
     },
     "execution_count": 107,
     "metadata": {},
     "output_type": "execute_result"
    },
    {
     "data": {
      "image/png": "[encoded data removed]",
      "text/plain": [
       "<Figure size 432x288 with 1 Axes>"
      ]
     },
     "metadata": {
      "needs_background": "light"
     },
     "output_type": "display_data"
    }
   ],
   "source": [
    "sns.boxplot(df['Rent'])"
   ]
  },
  {
   "cell_type": "code",
   "execution_count": 108,
   "id": "9209a22d",
   "metadata": {},
   "outputs": [],
   "source": [
    "df.drop(df[(df['Rent'] > df['Rent'].mean() + 2 * df['Rent'].std()) | (df['Rent'] < df['Rent'].mean() - 2 * df['Rent'].std())].index, inplace=True)"
   ]
  },
  {
   "cell_type": "code",
   "execution_count": 109,
   "id": "d822c920",
   "metadata": {},
   "outputs": [
    {
     "data": {
      "text/plain": [
       "(3830, 12)"
      ]
     },
     "execution_count": 109,
     "metadata": {},
     "output_type": "execute_result"
    }
   ],
   "source": [
    "df.shape"
   ]
  },
  {
   "cell_type": "code",
   "execution_count": 110,
   "id": "5c5b9971",
   "metadata": {},
   "outputs": [
    {
     "name": "stderr",
     "output_type": "stream",
     "text": [
      "/Users/nishathakur/opt/anaconda3/lib/python3.9/site-packages/seaborn/_decorators.py:36: FutureWarning: Pass the following variable as a keyword arg: x. From version 0.12, the only valid positional argument will be `data`, and passing other arguments without an explicit keyword will result in an error or misinterpretation.\n",
      "  warnings.warn(\n"
     ]
    },
    {
     "data": {
      "text/plain": [
       "<AxesSubplot:xlabel='Rent'>"
      ]
     },
     "execution_count": 110,
     "metadata": {},
     "output_type": "execute_result"
    },
    {
     "data": {
      "image/png": "[encoded data removed]",
      "text/plain": [
       "<Figure size 432x288 with 1 Axes>"
      ]
     },
     "metadata": {
      "needs_background": "light"
     },
     "output_type": "display_data"
    }
   ],
   "source": [
    "sns.boxplot(df['Rent'])"
   ]
  },
  {
   "cell_type": "code",
   "execution_count": 111,
   "id": "7ac02ea1",
   "metadata": {},
   "outputs": [
    {
     "name": "stderr",
     "output_type": "stream",
     "text": [
      "/Users/nishathakur/opt/anaconda3/lib/python3.9/site-packages/seaborn/_decorators.py:36: FutureWarning: Pass the following variable as a keyword arg: x. From version 0.12, the only valid positional argument will be `data`, and passing other arguments without an explicit keyword will result in an error or misinterpretation.\n",
      "  warnings.warn(\n"
     ]
    },
    {
     "data": {
      "text/plain": [
       "<AxesSubplot:xlabel='Size'>"
      ]
     },
     "execution_count": 111,
     "metadata": {},
     "output_type": "execute_result"
    },
    {
     "data": {
      "image/png": "[encoded data removed]",
      "text/plain": [
       "<Figure size 432x288 with 1 Axes>"
      ]
     },
     "metadata": {
      "needs_background": "light"
     },
     "output_type": "display_data"
    }
   ],
   "source": [
    "sns.boxplot(df['Size'])"
   ]
  },
  {
   "cell_type": "code",
   "execution_count": 112,
   "id": "73886aab",
   "metadata": {},
   "outputs": [],
   "source": [
    "df.drop(df[(df['Size'] > df['Size'].mean() + 2 * df['Size'].std()) | (df['Size'] < df['Size'].mean() - 2 * df['Size'].std())].index, inplace=True)"
   ]
  },
  {
   "cell_type": "code",
   "execution_count": 113,
   "id": "f44678eb",
   "metadata": {},
   "outputs": [
    {
     "data": {
      "text/plain": [
       "(3671, 12)"
      ]
     },
     "execution_count": 113,
     "metadata": {},
     "output_type": "execute_result"
    }
   ],
   "source": [
    "df.shape"
   ]
  },
  {
   "cell_type": "code",
   "execution_count": 114,
   "id": "8f7eb68c",
   "metadata": {},
   "outputs": [
    {
     "name": "stderr",
     "output_type": "stream",
     "text": [
      "/Users/nishathakur/opt/anaconda3/lib/python3.9/site-packages/seaborn/_decorators.py:36: FutureWarning: Pass the following variable as a keyword arg: x. From version 0.12, the only valid positional argument will be `data`, and passing other arguments without an explicit keyword will result in an error or misinterpretation.\n",
      "  warnings.warn(\n"
     ]
    },
    {
     "data": {
      "text/plain": [
       "<AxesSubplot:xlabel='Size'>"
      ]
     },
     "execution_count": 114,
     "metadata": {},
     "output_type": "execute_result"
    },
    {
     "data": {
      "image/png": "[encoded data removed]",
      "text/plain": [
       "<Figure size 432x288 with 1 Axes>"
      ]
     },
     "metadata": {
      "needs_background": "light"
     },
     "output_type": "display_data"
    }
   ],
   "source": [
    "sns.boxplot(df['Size'])"
   ]
  },
  {
   "cell_type": "code",
   "execution_count": 115,
   "id": "b09e90b9",
   "metadata": {},
   "outputs": [
    {
     "data": {
      "text/plain": [
       "(3671, 12)"
      ]
     },
     "execution_count": 115,
     "metadata": {},
     "output_type": "execute_result"
    }
   ],
   "source": [
    "df.shape"
   ]
  },
  {
   "cell_type": "code",
   "execution_count": 116,
   "id": "4a540fcb",
   "metadata": {},
   "outputs": [
    {
     "name": "stdout",
     "output_type": "stream",
     "text": [
      "<class 'pandas.core.frame.DataFrame'>\n",
      "Int64Index: 3671 entries, 0 to 4745\n",
      "Data columns (total 12 columns):\n",
      " #   Column             Non-Null Count  Dtype \n",
      "---  ------             --------------  ----- \n",
      " 0   Posted On          3671 non-null   object\n",
      " 1   BHK                3671 non-null   int64 \n",
      " 2   Rent               3671 non-null   int64 \n",
      " 3   Size               3671 non-null   int64 \n",
      " 4   Floor              3671 non-null   object\n",
      " 5   Area Type          3671 non-null   object\n",
      " 6   Area Locality      3671 non-null   object\n",
      " 7   City               3671 non-null   object\n",
      " 8   Furnishing Status  3671 non-null   object\n",
      " 9   Tenant Preferred   3671 non-null   object\n",
      " 10  Bathroom           3671 non-null   int64 \n",
      " 11  Point of Contact   3671 non-null   object\n",
      "dtypes: int64(4), object(8)\n",
      "memory usage: 372.8+ KB\n"
     ]
    }
   ],
   "source": [
    "df.info()"
   ]
  },
  {
   "cell_type": "code",
   "execution_count": 117,
   "id": "b9bace1f",
   "metadata": {},
   "outputs": [
    {
     "data": {
      "text/plain": [
       "0"
      ]
     },
     "execution_count": 117,
     "metadata": {},
     "output_type": "execute_result"
    }
   ],
   "source": [
    "df.duplicated().sum()"
   ]
  },
  {
   "cell_type": "code",
   "execution_count": 118,
   "id": "4c6e7320",
   "metadata": {},
   "outputs": [
    {
     "data": {
      "text/plain": [
       "Posted On            object\n",
       "BHK                   int64\n",
       "Rent                  int64\n",
       "Size                  int64\n",
       "Floor                object\n",
       "Area Type            object\n",
       "Area Locality        object\n",
       "City                 object\n",
       "Furnishing Status    object\n",
       "Tenant Preferred     object\n",
       "Bathroom              int64\n",
       "Point of Contact     object\n",
       "dtype: object"
      ]
     },
     "execution_count": 118,
     "metadata": {},
     "output_type": "execute_result"
    }
   ],
   "source": [
    "df.dtypes"
   ]
  },
  {
   "cell_type": "code",
   "execution_count": 119,
   "id": "6aaff026",
   "metadata": {},
   "outputs": [
    {
     "data": {
      "text/html": [
       "<div>\n",
       "<style scoped>\n",
       "    .dataframe tbody tr th:only-of-type {\n",
       "        vertical-align: middle;\n",
       "    }\n",
       "\n",
       "    .dataframe tbody tr th {\n",
       "        vertical-align: top;\n",
       "    }\n",
       "\n",
       "    .dataframe thead th {\n",
       "        text-align: right;\n",
       "    }\n",
       "</style>\n",
       "<table border=\"1\" class=\"dataframe\">\n",
       "  <thead>\n",
       "    <tr style=\"text-align: right;\">\n",
       "      <th></th>\n",
       "      <th>Posted On</th>\n",
       "      <th>BHK</th>\n",
       "      <th>Rent</th>\n",
       "      <th>Size</th>\n",
       "      <th>Floor</th>\n",
       "      <th>Area Type</th>\n",
       "      <th>Area Locality</th>\n",
       "      <th>City</th>\n",
       "      <th>Furnishing Status</th>\n",
       "      <th>Tenant Preferred</th>\n",
       "      <th>Bathroom</th>\n",
       "      <th>Point of Contact</th>\n",
       "    </tr>\n",
       "  </thead>\n",
       "  <tbody>\n",
       "    <tr>\n",
       "      <th>0</th>\n",
       "      <td>2022-05-18</td>\n",
       "      <td>2</td>\n",
       "      <td>10000</td>\n",
       "      <td>1100</td>\n",
       "      <td>Ground out of 2</td>\n",
       "      <td>Super Area</td>\n",
       "      <td>Bandel</td>\n",
       "      <td>Kolkata</td>\n",
       "      <td>Unfurnished</td>\n",
       "      <td>Bachelors/Family</td>\n",
       "      <td>2</td>\n",
       "      <td>Contact Owner</td>\n",
       "    </tr>\n",
       "    <tr>\n",
       "      <th>1</th>\n",
       "      <td>2022-05-13</td>\n",
       "      <td>2</td>\n",
       "      <td>20000</td>\n",
       "      <td>800</td>\n",
       "      <td>1 out of 3</td>\n",
       "      <td>Super Area</td>\n",
       "      <td>Phool Bagan, Kankurgachi</td>\n",
       "      <td>Kolkata</td>\n",
       "      <td>Semi-Furnished</td>\n",
       "      <td>Bachelors/Family</td>\n",
       "      <td>1</td>\n",
       "      <td>Contact Owner</td>\n",
       "    </tr>\n",
       "    <tr>\n",
       "      <th>2</th>\n",
       "      <td>2022-05-16</td>\n",
       "      <td>2</td>\n",
       "      <td>17000</td>\n",
       "      <td>1000</td>\n",
       "      <td>1 out of 3</td>\n",
       "      <td>Super Area</td>\n",
       "      <td>Salt Lake City Sector 2</td>\n",
       "      <td>Kolkata</td>\n",
       "      <td>Semi-Furnished</td>\n",
       "      <td>Bachelors/Family</td>\n",
       "      <td>1</td>\n",
       "      <td>Contact Owner</td>\n",
       "    </tr>\n",
       "    <tr>\n",
       "      <th>3</th>\n",
       "      <td>2022-07-04</td>\n",
       "      <td>2</td>\n",
       "      <td>10000</td>\n",
       "      <td>800</td>\n",
       "      <td>1 out of 2</td>\n",
       "      <td>Super Area</td>\n",
       "      <td>Dumdum Park</td>\n",
       "      <td>Kolkata</td>\n",
       "      <td>Unfurnished</td>\n",
       "      <td>Bachelors/Family</td>\n",
       "      <td>1</td>\n",
       "      <td>Contact Owner</td>\n",
       "    </tr>\n",
       "    <tr>\n",
       "      <th>4</th>\n",
       "      <td>2022-05-09</td>\n",
       "      <td>2</td>\n",
       "      <td>7500</td>\n",
       "      <td>850</td>\n",
       "      <td>1 out of 2</td>\n",
       "      <td>Carpet Area</td>\n",
       "      <td>South Dum Dum</td>\n",
       "      <td>Kolkata</td>\n",
       "      <td>Unfurnished</td>\n",
       "      <td>Bachelors</td>\n",
       "      <td>1</td>\n",
       "      <td>Contact Owner</td>\n",
       "    </tr>\n",
       "  </tbody>\n",
       "</table>\n",
       "</div>"
      ],
      "text/plain": [
       "    Posted On  BHK   Rent  Size            Floor    Area Type  \\\n",
       "0  2022-05-18    2  10000  1100  Ground out of 2   Super Area   \n",
       "1  2022-05-13    2  20000   800       1 out of 3   Super Area   \n",
       "2  2022-05-16    2  17000  1000       1 out of 3   Super Area   \n",
       "3  2022-07-04    2  10000   800       1 out of 2   Super Area   \n",
       "4  2022-05-09    2   7500   850       1 out of 2  Carpet Area   \n",
       "\n",
       "              Area Locality     City Furnishing Status  Tenant Preferred  \\\n",
       "0                    Bandel  Kolkata       Unfurnished  Bachelors/Family   \n",
       "1  Phool Bagan, Kankurgachi  Kolkata    Semi-Furnished  Bachelors/Family   \n",
       "2   Salt Lake City Sector 2  Kolkata    Semi-Furnished  Bachelors/Family   \n",
       "3               Dumdum Park  Kolkata       Unfurnished  Bachelors/Family   \n",
       "4             South Dum Dum  Kolkata       Unfurnished         Bachelors   \n",
       "\n",
       "   Bathroom Point of Contact  \n",
       "0         2    Contact Owner  \n",
       "1         1    Contact Owner  \n",
       "2         1    Contact Owner  \n",
       "3         1    Contact Owner  \n",
       "4         1    Contact Owner  "
      ]
     },
     "execution_count": 119,
     "metadata": {},
     "output_type": "execute_result"
    }
   ],
   "source": [
    "df.head()"
   ]
  },
  {
   "cell_type": "code",
   "execution_count": 120,
   "id": "1ace37d3",
   "metadata": {},
   "outputs": [],
   "source": [
    "df = df.replace({\n",
    "                'Bachelors/Family':0,'Bachelors':1,'Family':2,\n",
    "                'Super Area':0, 'Carpet Area':1, 'Built Area':2,   \n",
    "                'Contact Owner':0,'Contact Agent':1,'Contact Builder':2,\n",
    "                'Unfurnished':0,'Semi-Furnished':1,'Furnished':2,\n",
    "                'Kolkata':0,'Mumbai':1,'Bangalore':2,'Delhi':3,'Chennai':4,'Hyderabad':5\n",
    "            })"
   ]
  },
  {
   "cell_type": "code",
   "execution_count": 121,
   "id": "92a2d228",
   "metadata": {},
   "outputs": [],
   "source": [
    "# Tried to do a dictionary connecting the keys and values for an understanding to know what variables is assigned with digital number\n",
    "areaDict = {'0': \"Super Area\",'1': \"Carpet Area\",'2': \"Built Area\"}\n",
    "TenantPreferredDict = {'0': \"Bachelors/Family\",'1': \"Bachelors\",'2': \"Family\"}\n",
    "PointofContactDict = {'0': \"Contact Owner\",'1': \"Contact Agent\",'2': \"Contact Builder\"}\n",
    "FurnishingStatusDict = {'0': \"Unfurnished\",'1': \"Semi-Furnished\",'2': \"Furnished\"}\n",
    "CityDict = {'0': \"Kolkata\",'1': \"Mumbai\",'2': \"Bangalore\",'3': \"Delhi\",'4': \"Chennai\",'5': \"Hyderabad\"}"
   ]
  },
  {
   "cell_type": "code",
   "execution_count": 122,
   "id": "d541c6dd",
   "metadata": {},
   "outputs": [
    {
     "data": {
      "text/html": [
       "<div>\n",
       "<style scoped>\n",
       "    .dataframe tbody tr th:only-of-type {\n",
       "        vertical-align: middle;\n",
       "    }\n",
       "\n",
       "    .dataframe tbody tr th {\n",
       "        vertical-align: top;\n",
       "    }\n",
       "\n",
       "    .dataframe thead th {\n",
       "        text-align: right;\n",
       "    }\n",
       "</style>\n",
       "<table border=\"1\" class=\"dataframe\">\n",
       "  <thead>\n",
       "    <tr style=\"text-align: right;\">\n",
       "      <th></th>\n",
       "      <th>Posted On</th>\n",
       "      <th>BHK</th>\n",
       "      <th>Rent</th>\n",
       "      <th>Size</th>\n",
       "      <th>Floor</th>\n",
       "      <th>Area Type</th>\n",
       "      <th>Area Locality</th>\n",
       "      <th>City</th>\n",
       "      <th>Furnishing Status</th>\n",
       "      <th>Tenant Preferred</th>\n",
       "      <th>Bathroom</th>\n",
       "      <th>Point of Contact</th>\n",
       "    </tr>\n",
       "  </thead>\n",
       "  <tbody>\n",
       "    <tr>\n",
       "      <th>0</th>\n",
       "      <td>2022-05-18</td>\n",
       "      <td>2</td>\n",
       "      <td>10000</td>\n",
       "      <td>1100</td>\n",
       "      <td>Ground out of 2</td>\n",
       "      <td>0</td>\n",
       "      <td>Bandel</td>\n",
       "      <td>0</td>\n",
       "      <td>0</td>\n",
       "      <td>0</td>\n",
       "      <td>2</td>\n",
       "      <td>0</td>\n",
       "    </tr>\n",
       "    <tr>\n",
       "      <th>1</th>\n",
       "      <td>2022-05-13</td>\n",
       "      <td>2</td>\n",
       "      <td>20000</td>\n",
       "      <td>800</td>\n",
       "      <td>1 out of 3</td>\n",
       "      <td>0</td>\n",
       "      <td>Phool Bagan, Kankurgachi</td>\n",
       "      <td>0</td>\n",
       "      <td>1</td>\n",
       "      <td>0</td>\n",
       "      <td>1</td>\n",
       "      <td>0</td>\n",
       "    </tr>\n",
       "    <tr>\n",
       "      <th>2</th>\n",
       "      <td>2022-05-16</td>\n",
       "      <td>2</td>\n",
       "      <td>17000</td>\n",
       "      <td>1000</td>\n",
       "      <td>1 out of 3</td>\n",
       "      <td>0</td>\n",
       "      <td>Salt Lake City Sector 2</td>\n",
       "      <td>0</td>\n",
       "      <td>1</td>\n",
       "      <td>0</td>\n",
       "      <td>1</td>\n",
       "      <td>0</td>\n",
       "    </tr>\n",
       "    <tr>\n",
       "      <th>3</th>\n",
       "      <td>2022-07-04</td>\n",
       "      <td>2</td>\n",
       "      <td>10000</td>\n",
       "      <td>800</td>\n",
       "      <td>1 out of 2</td>\n",
       "      <td>0</td>\n",
       "      <td>Dumdum Park</td>\n",
       "      <td>0</td>\n",
       "      <td>0</td>\n",
       "      <td>0</td>\n",
       "      <td>1</td>\n",
       "      <td>0</td>\n",
       "    </tr>\n",
       "    <tr>\n",
       "      <th>4</th>\n",
       "      <td>2022-05-09</td>\n",
       "      <td>2</td>\n",
       "      <td>7500</td>\n",
       "      <td>850</td>\n",
       "      <td>1 out of 2</td>\n",
       "      <td>1</td>\n",
       "      <td>South Dum Dum</td>\n",
       "      <td>0</td>\n",
       "      <td>0</td>\n",
       "      <td>1</td>\n",
       "      <td>1</td>\n",
       "      <td>0</td>\n",
       "    </tr>\n",
       "  </tbody>\n",
       "</table>\n",
       "</div>"
      ],
      "text/plain": [
       "    Posted On  BHK   Rent  Size            Floor  Area Type  \\\n",
       "0  2022-05-18    2  10000  1100  Ground out of 2          0   \n",
       "1  2022-05-13    2  20000   800       1 out of 3          0   \n",
       "2  2022-05-16    2  17000  1000       1 out of 3          0   \n",
       "3  2022-07-04    2  10000   800       1 out of 2          0   \n",
       "4  2022-05-09    2   7500   850       1 out of 2          1   \n",
       "\n",
       "              Area Locality  City  Furnishing Status  Tenant Preferred  \\\n",
       "0                    Bandel     0                  0                 0   \n",
       "1  Phool Bagan, Kankurgachi     0                  1                 0   \n",
       "2   Salt Lake City Sector 2     0                  1                 0   \n",
       "3               Dumdum Park     0                  0                 0   \n",
       "4             South Dum Dum     0                  0                 1   \n",
       "\n",
       "   Bathroom  Point of Contact  \n",
       "0         2                 0  \n",
       "1         1                 0  \n",
       "2         1                 0  \n",
       "3         1                 0  \n",
       "4         1                 0  "
      ]
     },
     "execution_count": 122,
     "metadata": {},
     "output_type": "execute_result"
    }
   ],
   "source": [
    "df.head()"
   ]
  },
  {
   "cell_type": "code",
   "execution_count": 123,
   "id": "a3c25ff5",
   "metadata": {},
   "outputs": [
    {
     "data": {
      "text/html": [
       "<div>\n",
       "<style scoped>\n",
       "    .dataframe tbody tr th:only-of-type {\n",
       "        vertical-align: middle;\n",
       "    }\n",
       "\n",
       "    .dataframe tbody tr th {\n",
       "        vertical-align: top;\n",
       "    }\n",
       "\n",
       "    .dataframe thead th {\n",
       "        text-align: right;\n",
       "    }\n",
       "</style>\n",
       "<table border=\"1\" class=\"dataframe\">\n",
       "  <thead>\n",
       "    <tr style=\"text-align: right;\">\n",
       "      <th></th>\n",
       "      <th>Posted On</th>\n",
       "      <th>BHK</th>\n",
       "      <th>Rent</th>\n",
       "      <th>Size</th>\n",
       "      <th>Floor</th>\n",
       "      <th>Area Type</th>\n",
       "      <th>Area Locality</th>\n",
       "      <th>City</th>\n",
       "      <th>Furnishing Status</th>\n",
       "      <th>Tenant Preferred</th>\n",
       "      <th>Bathroom</th>\n",
       "      <th>Point of Contact</th>\n",
       "      <th>Floor_Level</th>\n",
       "      <th>Total_Floor</th>\n",
       "    </tr>\n",
       "  </thead>\n",
       "  <tbody>\n",
       "    <tr>\n",
       "      <th>0</th>\n",
       "      <td>2022-05-18</td>\n",
       "      <td>2</td>\n",
       "      <td>10000</td>\n",
       "      <td>1100</td>\n",
       "      <td>Ground out of 2</td>\n",
       "      <td>0</td>\n",
       "      <td>Bandel</td>\n",
       "      <td>0</td>\n",
       "      <td>0</td>\n",
       "      <td>0</td>\n",
       "      <td>2</td>\n",
       "      <td>0</td>\n",
       "      <td>Ground</td>\n",
       "      <td>2</td>\n",
       "    </tr>\n",
       "    <tr>\n",
       "      <th>1</th>\n",
       "      <td>2022-05-13</td>\n",
       "      <td>2</td>\n",
       "      <td>20000</td>\n",
       "      <td>800</td>\n",
       "      <td>1 out of 3</td>\n",
       "      <td>0</td>\n",
       "      <td>Phool Bagan, Kankurgachi</td>\n",
       "      <td>0</td>\n",
       "      <td>1</td>\n",
       "      <td>0</td>\n",
       "      <td>1</td>\n",
       "      <td>0</td>\n",
       "      <td>1</td>\n",
       "      <td>3</td>\n",
       "    </tr>\n",
       "    <tr>\n",
       "      <th>2</th>\n",
       "      <td>2022-05-16</td>\n",
       "      <td>2</td>\n",
       "      <td>17000</td>\n",
       "      <td>1000</td>\n",
       "      <td>1 out of 3</td>\n",
       "      <td>0</td>\n",
       "      <td>Salt Lake City Sector 2</td>\n",
       "      <td>0</td>\n",
       "      <td>1</td>\n",
       "      <td>0</td>\n",
       "      <td>1</td>\n",
       "      <td>0</td>\n",
       "      <td>1</td>\n",
       "      <td>3</td>\n",
       "    </tr>\n",
       "    <tr>\n",
       "      <th>3</th>\n",
       "      <td>2022-07-04</td>\n",
       "      <td>2</td>\n",
       "      <td>10000</td>\n",
       "      <td>800</td>\n",
       "      <td>1 out of 2</td>\n",
       "      <td>0</td>\n",
       "      <td>Dumdum Park</td>\n",
       "      <td>0</td>\n",
       "      <td>0</td>\n",
       "      <td>0</td>\n",
       "      <td>1</td>\n",
       "      <td>0</td>\n",
       "      <td>1</td>\n",
       "      <td>2</td>\n",
       "    </tr>\n",
       "    <tr>\n",
       "      <th>4</th>\n",
       "      <td>2022-05-09</td>\n",
       "      <td>2</td>\n",
       "      <td>7500</td>\n",
       "      <td>850</td>\n",
       "      <td>1 out of 2</td>\n",
       "      <td>1</td>\n",
       "      <td>South Dum Dum</td>\n",
       "      <td>0</td>\n",
       "      <td>0</td>\n",
       "      <td>1</td>\n",
       "      <td>1</td>\n",
       "      <td>0</td>\n",
       "      <td>1</td>\n",
       "      <td>2</td>\n",
       "    </tr>\n",
       "  </tbody>\n",
       "</table>\n",
       "</div>"
      ],
      "text/plain": [
       "    Posted On  BHK   Rent  Size            Floor  Area Type  \\\n",
       "0  2022-05-18    2  10000  1100  Ground out of 2          0   \n",
       "1  2022-05-13    2  20000   800       1 out of 3          0   \n",
       "2  2022-05-16    2  17000  1000       1 out of 3          0   \n",
       "3  2022-07-04    2  10000   800       1 out of 2          0   \n",
       "4  2022-05-09    2   7500   850       1 out of 2          1   \n",
       "\n",
       "              Area Locality  City  Furnishing Status  Tenant Preferred  \\\n",
       "0                    Bandel     0                  0                 0   \n",
       "1  Phool Bagan, Kankurgachi     0                  1                 0   \n",
       "2   Salt Lake City Sector 2     0                  1                 0   \n",
       "3               Dumdum Park     0                  0                 0   \n",
       "4             South Dum Dum     0                  0                 1   \n",
       "\n",
       "   Bathroom  Point of Contact Floor_Level Total_Floor  \n",
       "0         2                 0     Ground            2  \n",
       "1         1                 0          1            3  \n",
       "2         1                 0          1            3  \n",
       "3         1                 0          1            2  \n",
       "4         1                 0          1            2  "
      ]
     },
     "execution_count": 123,
     "metadata": {},
     "output_type": "execute_result"
    }
   ],
   "source": [
    "#Splitting posted on column and creating new variables\n",
    "\n",
    "df['Floor_Level']=df['Floor'].apply(lambda x: x.split('out of')[0])\n",
    "df['Total_Floor']=df['Floor'].apply(lambda x: x.split('out of')[-1])\n",
    "df.head()"
   ]
  },
  {
   "cell_type": "code",
   "execution_count": 124,
   "id": "2867c094",
   "metadata": {},
   "outputs": [
    {
     "data": {
      "text/html": [
       "<div>\n",
       "<style scoped>\n",
       "    .dataframe tbody tr th:only-of-type {\n",
       "        vertical-align: middle;\n",
       "    }\n",
       "\n",
       "    .dataframe tbody tr th {\n",
       "        vertical-align: top;\n",
       "    }\n",
       "\n",
       "    .dataframe thead th {\n",
       "        text-align: right;\n",
       "    }\n",
       "</style>\n",
       "<table border=\"1\" class=\"dataframe\">\n",
       "  <thead>\n",
       "    <tr style=\"text-align: right;\">\n",
       "      <th></th>\n",
       "      <th>BHK</th>\n",
       "      <th>Rent</th>\n",
       "      <th>Size</th>\n",
       "      <th>Area Type</th>\n",
       "      <th>Area Locality</th>\n",
       "      <th>City</th>\n",
       "      <th>Furnishing Status</th>\n",
       "      <th>Tenant Preferred</th>\n",
       "      <th>Bathroom</th>\n",
       "      <th>Point of Contact</th>\n",
       "      <th>Floor_Level</th>\n",
       "      <th>Total_Floor</th>\n",
       "    </tr>\n",
       "  </thead>\n",
       "  <tbody>\n",
       "    <tr>\n",
       "      <th>0</th>\n",
       "      <td>2</td>\n",
       "      <td>10000</td>\n",
       "      <td>1100</td>\n",
       "      <td>0</td>\n",
       "      <td>Bandel</td>\n",
       "      <td>0</td>\n",
       "      <td>0</td>\n",
       "      <td>0</td>\n",
       "      <td>2</td>\n",
       "      <td>0</td>\n",
       "      <td>Ground</td>\n",
       "      <td>2</td>\n",
       "    </tr>\n",
       "    <tr>\n",
       "      <th>1</th>\n",
       "      <td>2</td>\n",
       "      <td>20000</td>\n",
       "      <td>800</td>\n",
       "      <td>0</td>\n",
       "      <td>Phool Bagan, Kankurgachi</td>\n",
       "      <td>0</td>\n",
       "      <td>1</td>\n",
       "      <td>0</td>\n",
       "      <td>1</td>\n",
       "      <td>0</td>\n",
       "      <td>1</td>\n",
       "      <td>3</td>\n",
       "    </tr>\n",
       "    <tr>\n",
       "      <th>2</th>\n",
       "      <td>2</td>\n",
       "      <td>17000</td>\n",
       "      <td>1000</td>\n",
       "      <td>0</td>\n",
       "      <td>Salt Lake City Sector 2</td>\n",
       "      <td>0</td>\n",
       "      <td>1</td>\n",
       "      <td>0</td>\n",
       "      <td>1</td>\n",
       "      <td>0</td>\n",
       "      <td>1</td>\n",
       "      <td>3</td>\n",
       "    </tr>\n",
       "    <tr>\n",
       "      <th>3</th>\n",
       "      <td>2</td>\n",
       "      <td>10000</td>\n",
       "      <td>800</td>\n",
       "      <td>0</td>\n",
       "      <td>Dumdum Park</td>\n",
       "      <td>0</td>\n",
       "      <td>0</td>\n",
       "      <td>0</td>\n",
       "      <td>1</td>\n",
       "      <td>0</td>\n",
       "      <td>1</td>\n",
       "      <td>2</td>\n",
       "    </tr>\n",
       "    <tr>\n",
       "      <th>4</th>\n",
       "      <td>2</td>\n",
       "      <td>7500</td>\n",
       "      <td>850</td>\n",
       "      <td>1</td>\n",
       "      <td>South Dum Dum</td>\n",
       "      <td>0</td>\n",
       "      <td>0</td>\n",
       "      <td>1</td>\n",
       "      <td>1</td>\n",
       "      <td>0</td>\n",
       "      <td>1</td>\n",
       "      <td>2</td>\n",
       "    </tr>\n",
       "  </tbody>\n",
       "</table>\n",
       "</div>"
      ],
      "text/plain": [
       "   BHK   Rent  Size  Area Type             Area Locality  City  \\\n",
       "0    2  10000  1100          0                    Bandel     0   \n",
       "1    2  20000   800          0  Phool Bagan, Kankurgachi     0   \n",
       "2    2  17000  1000          0   Salt Lake City Sector 2     0   \n",
       "3    2  10000   800          0               Dumdum Park     0   \n",
       "4    2   7500   850          1             South Dum Dum     0   \n",
       "\n",
       "   Furnishing Status  Tenant Preferred  Bathroom  Point of Contact  \\\n",
       "0                  0                 0         2                 0   \n",
       "1                  1                 0         1                 0   \n",
       "2                  1                 0         1                 0   \n",
       "3                  0                 0         1                 0   \n",
       "4                  0                 1         1                 0   \n",
       "\n",
       "  Floor_Level Total_Floor  \n",
       "0     Ground            2  \n",
       "1          1            3  \n",
       "2          1            3  \n",
       "3          1            2  \n",
       "4          1            2  "
      ]
     },
     "execution_count": 124,
     "metadata": {},
     "output_type": "execute_result"
    }
   ],
   "source": [
    "df.drop(['Floor','Posted On', ],axis=1,inplace= True)\n",
    "df.head()"
   ]
  },
  {
   "cell_type": "code",
   "execution_count": 125,
   "id": "6cc2ee76",
   "metadata": {},
   "outputs": [
    {
     "data": {
      "text/html": [
       "<div>\n",
       "<style scoped>\n",
       "    .dataframe tbody tr th:only-of-type {\n",
       "        vertical-align: middle;\n",
       "    }\n",
       "\n",
       "    .dataframe tbody tr th {\n",
       "        vertical-align: top;\n",
       "    }\n",
       "\n",
       "    .dataframe thead th {\n",
       "        text-align: right;\n",
       "    }\n",
       "</style>\n",
       "<table border=\"1\" class=\"dataframe\">\n",
       "  <thead>\n",
       "    <tr style=\"text-align: right;\">\n",
       "      <th></th>\n",
       "      <th>BHK</th>\n",
       "      <th>Rent</th>\n",
       "      <th>Size</th>\n",
       "      <th>Area Type</th>\n",
       "      <th>Area Locality</th>\n",
       "      <th>City</th>\n",
       "      <th>Furnishing Status</th>\n",
       "      <th>Tenant Preferred</th>\n",
       "      <th>Bathroom</th>\n",
       "      <th>Point of Contact</th>\n",
       "      <th>Floor_Level</th>\n",
       "      <th>Total_Floor</th>\n",
       "    </tr>\n",
       "  </thead>\n",
       "  <tbody>\n",
       "    <tr>\n",
       "      <th>0</th>\n",
       "      <td>2</td>\n",
       "      <td>10000</td>\n",
       "      <td>1100</td>\n",
       "      <td>0</td>\n",
       "      <td>Bandel</td>\n",
       "      <td>0</td>\n",
       "      <td>0</td>\n",
       "      <td>0</td>\n",
       "      <td>2</td>\n",
       "      <td>0</td>\n",
       "      <td>0</td>\n",
       "      <td>2</td>\n",
       "    </tr>\n",
       "    <tr>\n",
       "      <th>1</th>\n",
       "      <td>2</td>\n",
       "      <td>20000</td>\n",
       "      <td>800</td>\n",
       "      <td>0</td>\n",
       "      <td>Phool Bagan, Kankurgachi</td>\n",
       "      <td>0</td>\n",
       "      <td>1</td>\n",
       "      <td>0</td>\n",
       "      <td>1</td>\n",
       "      <td>0</td>\n",
       "      <td>1</td>\n",
       "      <td>3</td>\n",
       "    </tr>\n",
       "    <tr>\n",
       "      <th>2</th>\n",
       "      <td>2</td>\n",
       "      <td>17000</td>\n",
       "      <td>1000</td>\n",
       "      <td>0</td>\n",
       "      <td>Salt Lake City Sector 2</td>\n",
       "      <td>0</td>\n",
       "      <td>1</td>\n",
       "      <td>0</td>\n",
       "      <td>1</td>\n",
       "      <td>0</td>\n",
       "      <td>1</td>\n",
       "      <td>3</td>\n",
       "    </tr>\n",
       "    <tr>\n",
       "      <th>3</th>\n",
       "      <td>2</td>\n",
       "      <td>10000</td>\n",
       "      <td>800</td>\n",
       "      <td>0</td>\n",
       "      <td>Dumdum Park</td>\n",
       "      <td>0</td>\n",
       "      <td>0</td>\n",
       "      <td>0</td>\n",
       "      <td>1</td>\n",
       "      <td>0</td>\n",
       "      <td>1</td>\n",
       "      <td>2</td>\n",
       "    </tr>\n",
       "    <tr>\n",
       "      <th>4</th>\n",
       "      <td>2</td>\n",
       "      <td>7500</td>\n",
       "      <td>850</td>\n",
       "      <td>1</td>\n",
       "      <td>South Dum Dum</td>\n",
       "      <td>0</td>\n",
       "      <td>0</td>\n",
       "      <td>1</td>\n",
       "      <td>1</td>\n",
       "      <td>0</td>\n",
       "      <td>1</td>\n",
       "      <td>2</td>\n",
       "    </tr>\n",
       "  </tbody>\n",
       "</table>\n",
       "</div>"
      ],
      "text/plain": [
       "   BHK   Rent  Size  Area Type             Area Locality  City  \\\n",
       "0    2  10000  1100          0                    Bandel     0   \n",
       "1    2  20000   800          0  Phool Bagan, Kankurgachi     0   \n",
       "2    2  17000  1000          0   Salt Lake City Sector 2     0   \n",
       "3    2  10000   800          0               Dumdum Park     0   \n",
       "4    2   7500   850          1             South Dum Dum     0   \n",
       "\n",
       "   Furnishing Status  Tenant Preferred  Bathroom  Point of Contact  \\\n",
       "0                  0                 0         2                 0   \n",
       "1                  1                 0         1                 0   \n",
       "2                  1                 0         1                 0   \n",
       "3                  0                 0         1                 0   \n",
       "4                  0                 1         1                 0   \n",
       "\n",
       "  Floor_Level Total_Floor  \n",
       "0           0           2  \n",
       "1          1            3  \n",
       "2          1            3  \n",
       "3          1            2  \n",
       "4          1            2  "
      ]
     },
     "execution_count": 125,
     "metadata": {},
     "output_type": "execute_result"
    }
   ],
   "source": [
    "df['Floor_Level']=df['Floor_Level'].apply(lambda x: 0 if x =='Ground'or x=='Ground 'or x=='Upper Basement ' or x=='Lower Basement ' else x)                          \n",
    "df.head()"
   ]
  },
  {
   "cell_type": "code",
   "execution_count": 126,
   "id": "b18552b1",
   "metadata": {},
   "outputs": [
    {
     "data": {
      "text/html": [
       "<div>\n",
       "<style scoped>\n",
       "    .dataframe tbody tr th:only-of-type {\n",
       "        vertical-align: middle;\n",
       "    }\n",
       "\n",
       "    .dataframe tbody tr th {\n",
       "        vertical-align: top;\n",
       "    }\n",
       "\n",
       "    .dataframe thead th {\n",
       "        text-align: right;\n",
       "    }\n",
       "</style>\n",
       "<table border=\"1\" class=\"dataframe\">\n",
       "  <thead>\n",
       "    <tr style=\"text-align: right;\">\n",
       "      <th></th>\n",
       "      <th>BHK</th>\n",
       "      <th>Rent</th>\n",
       "      <th>Size</th>\n",
       "      <th>Area Type</th>\n",
       "      <th>Area Locality</th>\n",
       "      <th>City</th>\n",
       "      <th>Furnishing Status</th>\n",
       "      <th>Tenant Preferred</th>\n",
       "      <th>Bathroom</th>\n",
       "      <th>Point of Contact</th>\n",
       "      <th>Floor_Level</th>\n",
       "      <th>Total_Floor</th>\n",
       "    </tr>\n",
       "  </thead>\n",
       "  <tbody>\n",
       "    <tr>\n",
       "      <th>0</th>\n",
       "      <td>2</td>\n",
       "      <td>10000</td>\n",
       "      <td>1100</td>\n",
       "      <td>0</td>\n",
       "      <td>Bandel</td>\n",
       "      <td>0</td>\n",
       "      <td>0</td>\n",
       "      <td>0</td>\n",
       "      <td>2</td>\n",
       "      <td>0</td>\n",
       "      <td>0</td>\n",
       "      <td>2</td>\n",
       "    </tr>\n",
       "    <tr>\n",
       "      <th>1</th>\n",
       "      <td>2</td>\n",
       "      <td>20000</td>\n",
       "      <td>800</td>\n",
       "      <td>0</td>\n",
       "      <td>Phool Bagan, Kankurgachi</td>\n",
       "      <td>0</td>\n",
       "      <td>1</td>\n",
       "      <td>0</td>\n",
       "      <td>1</td>\n",
       "      <td>0</td>\n",
       "      <td>1</td>\n",
       "      <td>3</td>\n",
       "    </tr>\n",
       "    <tr>\n",
       "      <th>2</th>\n",
       "      <td>2</td>\n",
       "      <td>17000</td>\n",
       "      <td>1000</td>\n",
       "      <td>0</td>\n",
       "      <td>Salt Lake City Sector 2</td>\n",
       "      <td>0</td>\n",
       "      <td>1</td>\n",
       "      <td>0</td>\n",
       "      <td>1</td>\n",
       "      <td>0</td>\n",
       "      <td>1</td>\n",
       "      <td>3</td>\n",
       "    </tr>\n",
       "    <tr>\n",
       "      <th>3</th>\n",
       "      <td>2</td>\n",
       "      <td>10000</td>\n",
       "      <td>800</td>\n",
       "      <td>0</td>\n",
       "      <td>Dumdum Park</td>\n",
       "      <td>0</td>\n",
       "      <td>0</td>\n",
       "      <td>0</td>\n",
       "      <td>1</td>\n",
       "      <td>0</td>\n",
       "      <td>1</td>\n",
       "      <td>2</td>\n",
       "    </tr>\n",
       "    <tr>\n",
       "      <th>4</th>\n",
       "      <td>2</td>\n",
       "      <td>7500</td>\n",
       "      <td>850</td>\n",
       "      <td>1</td>\n",
       "      <td>South Dum Dum</td>\n",
       "      <td>0</td>\n",
       "      <td>0</td>\n",
       "      <td>1</td>\n",
       "      <td>1</td>\n",
       "      <td>0</td>\n",
       "      <td>1</td>\n",
       "      <td>2</td>\n",
       "    </tr>\n",
       "  </tbody>\n",
       "</table>\n",
       "</div>"
      ],
      "text/plain": [
       "   BHK   Rent  Size  Area Type             Area Locality  City  \\\n",
       "0    2  10000  1100          0                    Bandel     0   \n",
       "1    2  20000   800          0  Phool Bagan, Kankurgachi     0   \n",
       "2    2  17000  1000          0   Salt Lake City Sector 2     0   \n",
       "3    2  10000   800          0               Dumdum Park     0   \n",
       "4    2   7500   850          1             South Dum Dum     0   \n",
       "\n",
       "   Furnishing Status  Tenant Preferred  Bathroom  Point of Contact  \\\n",
       "0                  0                 0         2                 0   \n",
       "1                  1                 0         1                 0   \n",
       "2                  1                 0         1                 0   \n",
       "3                  0                 0         1                 0   \n",
       "4                  0                 1         1                 0   \n",
       "\n",
       "  Floor_Level Total_Floor  \n",
       "0           0           2  \n",
       "1          1            3  \n",
       "2          1            3  \n",
       "3          1            2  \n",
       "4          1            2  "
      ]
     },
     "execution_count": 126,
     "metadata": {},
     "output_type": "execute_result"
    }
   ],
   "source": [
    "df['Total_Floor']=df['Total_Floor'].apply(lambda x: 0 if x =='Ground'or x=='Ground 'or x=='Upper Basement ' or x=='Lower Basement ' else x)                          \n",
    "df.head()"
   ]
  },
  {
   "cell_type": "code",
   "execution_count": 127,
   "id": "0c39d6b5",
   "metadata": {},
   "outputs": [
    {
     "data": {
      "text/plain": [
       "(1762,)"
      ]
     },
     "execution_count": 127,
     "metadata": {},
     "output_type": "execute_result"
    }
   ],
   "source": [
    "df['Area Locality'].unique().shape"
   ]
  },
  {
   "cell_type": "code",
   "execution_count": 128,
   "id": "34d395d5",
   "metadata": {},
   "outputs": [],
   "source": [
    "df.drop(columns = ['Area Locality'],inplace=True)"
   ]
  },
  {
   "cell_type": "code",
   "execution_count": 129,
   "id": "a2200393",
   "metadata": {},
   "outputs": [
    {
     "data": {
      "text/html": [
       "<div>\n",
       "<style scoped>\n",
       "    .dataframe tbody tr th:only-of-type {\n",
       "        vertical-align: middle;\n",
       "    }\n",
       "\n",
       "    .dataframe tbody tr th {\n",
       "        vertical-align: top;\n",
       "    }\n",
       "\n",
       "    .dataframe thead th {\n",
       "        text-align: right;\n",
       "    }\n",
       "</style>\n",
       "<table border=\"1\" class=\"dataframe\">\n",
       "  <thead>\n",
       "    <tr style=\"text-align: right;\">\n",
       "      <th></th>\n",
       "      <th>BHK</th>\n",
       "      <th>Rent</th>\n",
       "      <th>Size</th>\n",
       "      <th>Area Type</th>\n",
       "      <th>City</th>\n",
       "      <th>Furnishing Status</th>\n",
       "      <th>Tenant Preferred</th>\n",
       "      <th>Bathroom</th>\n",
       "      <th>Point of Contact</th>\n",
       "      <th>Floor_Level</th>\n",
       "      <th>Total_Floor</th>\n",
       "    </tr>\n",
       "  </thead>\n",
       "  <tbody>\n",
       "    <tr>\n",
       "      <th>0</th>\n",
       "      <td>2</td>\n",
       "      <td>10000</td>\n",
       "      <td>1100</td>\n",
       "      <td>0</td>\n",
       "      <td>0</td>\n",
       "      <td>0</td>\n",
       "      <td>0</td>\n",
       "      <td>2</td>\n",
       "      <td>0</td>\n",
       "      <td>0</td>\n",
       "      <td>2</td>\n",
       "    </tr>\n",
       "    <tr>\n",
       "      <th>1</th>\n",
       "      <td>2</td>\n",
       "      <td>20000</td>\n",
       "      <td>800</td>\n",
       "      <td>0</td>\n",
       "      <td>0</td>\n",
       "      <td>1</td>\n",
       "      <td>0</td>\n",
       "      <td>1</td>\n",
       "      <td>0</td>\n",
       "      <td>1</td>\n",
       "      <td>3</td>\n",
       "    </tr>\n",
       "    <tr>\n",
       "      <th>2</th>\n",
       "      <td>2</td>\n",
       "      <td>17000</td>\n",
       "      <td>1000</td>\n",
       "      <td>0</td>\n",
       "      <td>0</td>\n",
       "      <td>1</td>\n",
       "      <td>0</td>\n",
       "      <td>1</td>\n",
       "      <td>0</td>\n",
       "      <td>1</td>\n",
       "      <td>3</td>\n",
       "    </tr>\n",
       "    <tr>\n",
       "      <th>3</th>\n",
       "      <td>2</td>\n",
       "      <td>10000</td>\n",
       "      <td>800</td>\n",
       "      <td>0</td>\n",
       "      <td>0</td>\n",
       "      <td>0</td>\n",
       "      <td>0</td>\n",
       "      <td>1</td>\n",
       "      <td>0</td>\n",
       "      <td>1</td>\n",
       "      <td>2</td>\n",
       "    </tr>\n",
       "    <tr>\n",
       "      <th>4</th>\n",
       "      <td>2</td>\n",
       "      <td>7500</td>\n",
       "      <td>850</td>\n",
       "      <td>1</td>\n",
       "      <td>0</td>\n",
       "      <td>0</td>\n",
       "      <td>1</td>\n",
       "      <td>1</td>\n",
       "      <td>0</td>\n",
       "      <td>1</td>\n",
       "      <td>2</td>\n",
       "    </tr>\n",
       "  </tbody>\n",
       "</table>\n",
       "</div>"
      ],
      "text/plain": [
       "   BHK   Rent  Size  Area Type  City  Furnishing Status  Tenant Preferred  \\\n",
       "0    2  10000  1100          0     0                  0                 0   \n",
       "1    2  20000   800          0     0                  1                 0   \n",
       "2    2  17000  1000          0     0                  1                 0   \n",
       "3    2  10000   800          0     0                  0                 0   \n",
       "4    2   7500   850          1     0                  0                 1   \n",
       "\n",
       "   Bathroom  Point of Contact Floor_Level Total_Floor  \n",
       "0         2                 0           0           2  \n",
       "1         1                 0          1            3  \n",
       "2         1                 0          1            3  \n",
       "3         1                 0          1            2  \n",
       "4         1                 0          1            2  "
      ]
     },
     "execution_count": 129,
     "metadata": {},
     "output_type": "execute_result"
    }
   ],
   "source": [
    "df.head()"
   ]
  },
  {
   "cell_type": "code",
   "execution_count": 130,
   "id": "676dac8a",
   "metadata": {},
   "outputs": [
    {
     "data": {
      "text/plain": [
       "(3671, 11)"
      ]
     },
     "execution_count": 130,
     "metadata": {},
     "output_type": "execute_result"
    }
   ],
   "source": [
    "df.shape"
   ]
  },
  {
   "cell_type": "code",
   "execution_count": 131,
   "id": "31c36103",
   "metadata": {},
   "outputs": [
    {
     "data": {
      "text/plain": [
       "BHK                   int64\n",
       "Rent                  int64\n",
       "Size                  int64\n",
       "Area Type             int64\n",
       "City                  int64\n",
       "Furnishing Status     int64\n",
       "Tenant Preferred      int64\n",
       "Bathroom              int64\n",
       "Point of Contact      int64\n",
       "Floor_Level          object\n",
       "Total_Floor          object\n",
       "dtype: object"
      ]
     },
     "execution_count": 131,
     "metadata": {},
     "output_type": "execute_result"
    }
   ],
   "source": [
    "df.dtypes"
   ]
  },
  {
   "cell_type": "code",
   "execution_count": 132,
   "id": "42b2b7e2",
   "metadata": {},
   "outputs": [],
   "source": [
    "df['Floor_Level'] = df['Floor_Level'].astype(int)\n",
    "df['Total_Floor'] = df['Total_Floor'].astype(int)"
   ]
  },
  {
   "cell_type": "code",
   "execution_count": 133,
   "id": "9b11bcd2",
   "metadata": {},
   "outputs": [
    {
     "data": {
      "text/plain": [
       "BHK                  int64\n",
       "Rent                 int64\n",
       "Size                 int64\n",
       "Area Type            int64\n",
       "City                 int64\n",
       "Furnishing Status    int64\n",
       "Tenant Preferred     int64\n",
       "Bathroom             int64\n",
       "Point of Contact     int64\n",
       "Floor_Level          int64\n",
       "Total_Floor          int64\n",
       "dtype: object"
      ]
     },
     "execution_count": 133,
     "metadata": {},
     "output_type": "execute_result"
    }
   ],
   "source": [
    "df.dtypes"
   ]
  },
  {
   "cell_type": "code",
   "execution_count": 134,
   "id": "5de579d0",
   "metadata": {},
   "outputs": [
    {
     "data": {
      "text/html": [
       "<div>\n",
       "<style scoped>\n",
       "    .dataframe tbody tr th:only-of-type {\n",
       "        vertical-align: middle;\n",
       "    }\n",
       "\n",
       "    .dataframe tbody tr th {\n",
       "        vertical-align: top;\n",
       "    }\n",
       "\n",
       "    .dataframe thead th {\n",
       "        text-align: right;\n",
       "    }\n",
       "</style>\n",
       "<table border=\"1\" class=\"dataframe\">\n",
       "  <thead>\n",
       "    <tr style=\"text-align: right;\">\n",
       "      <th></th>\n",
       "      <th>BHK</th>\n",
       "      <th>Rent</th>\n",
       "      <th>Size</th>\n",
       "      <th>Area Type</th>\n",
       "      <th>City</th>\n",
       "      <th>Furnishing Status</th>\n",
       "      <th>Tenant Preferred</th>\n",
       "      <th>Bathroom</th>\n",
       "      <th>Point of Contact</th>\n",
       "      <th>Floor_Level</th>\n",
       "      <th>Total_Floor</th>\n",
       "    </tr>\n",
       "  </thead>\n",
       "  <tbody>\n",
       "    <tr>\n",
       "      <th>count</th>\n",
       "      <td>3671.000000</td>\n",
       "      <td>3671.000000</td>\n",
       "      <td>3671.000000</td>\n",
       "      <td>3671.000000</td>\n",
       "      <td>3671.000000</td>\n",
       "      <td>3671.000000</td>\n",
       "      <td>3671.000000</td>\n",
       "      <td>3671.000000</td>\n",
       "      <td>3671.000000</td>\n",
       "      <td>3671.000000</td>\n",
       "      <td>3671.000000</td>\n",
       "    </tr>\n",
       "    <tr>\n",
       "      <th>mean</th>\n",
       "      <td>1.862708</td>\n",
       "      <td>15381.809861</td>\n",
       "      <td>787.119041</td>\n",
       "      <td>0.397984</td>\n",
       "      <td>2.781803</td>\n",
       "      <td>0.686461</td>\n",
       "      <td>0.327704</td>\n",
       "      <td>1.693816</td>\n",
       "      <td>0.186870</td>\n",
       "      <td>2.102152</td>\n",
       "      <td>4.483792</td>\n",
       "    </tr>\n",
       "    <tr>\n",
       "      <th>std</th>\n",
       "      <td>0.685149</td>\n",
       "      <td>8630.578385</td>\n",
       "      <td>376.342978</td>\n",
       "      <td>0.490661</td>\n",
       "      <td>1.680001</td>\n",
       "      <td>0.663185</td>\n",
       "      <td>0.622199</td>\n",
       "      <td>0.624183</td>\n",
       "      <td>0.390559</td>\n",
       "      <td>2.806410</td>\n",
       "      <td>4.504396</td>\n",
       "    </tr>\n",
       "    <tr>\n",
       "      <th>min</th>\n",
       "      <td>1.000000</td>\n",
       "      <td>1500.000000</td>\n",
       "      <td>10.000000</td>\n",
       "      <td>0.000000</td>\n",
       "      <td>0.000000</td>\n",
       "      <td>0.000000</td>\n",
       "      <td>0.000000</td>\n",
       "      <td>1.000000</td>\n",
       "      <td>0.000000</td>\n",
       "      <td>0.000000</td>\n",
       "      <td>0.000000</td>\n",
       "    </tr>\n",
       "    <tr>\n",
       "      <th>25%</th>\n",
       "      <td>1.000000</td>\n",
       "      <td>9000.000000</td>\n",
       "      <td>500.000000</td>\n",
       "      <td>0.000000</td>\n",
       "      <td>2.000000</td>\n",
       "      <td>0.000000</td>\n",
       "      <td>0.000000</td>\n",
       "      <td>1.000000</td>\n",
       "      <td>0.000000</td>\n",
       "      <td>1.000000</td>\n",
       "      <td>2.000000</td>\n",
       "    </tr>\n",
       "    <tr>\n",
       "      <th>50%</th>\n",
       "      <td>2.000000</td>\n",
       "      <td>13000.000000</td>\n",
       "      <td>750.000000</td>\n",
       "      <td>0.000000</td>\n",
       "      <td>3.000000</td>\n",
       "      <td>1.000000</td>\n",
       "      <td>0.000000</td>\n",
       "      <td>2.000000</td>\n",
       "      <td>0.000000</td>\n",
       "      <td>1.000000</td>\n",
       "      <td>3.000000</td>\n",
       "    </tr>\n",
       "    <tr>\n",
       "      <th>75%</th>\n",
       "      <td>2.000000</td>\n",
       "      <td>20000.000000</td>\n",
       "      <td>1050.000000</td>\n",
       "      <td>1.000000</td>\n",
       "      <td>4.000000</td>\n",
       "      <td>1.000000</td>\n",
       "      <td>0.000000</td>\n",
       "      <td>2.000000</td>\n",
       "      <td>0.000000</td>\n",
       "      <td>3.000000</td>\n",
       "      <td>4.000000</td>\n",
       "    </tr>\n",
       "    <tr>\n",
       "      <th>max</th>\n",
       "      <td>6.000000</td>\n",
       "      <td>41000.000000</td>\n",
       "      <td>1730.000000</td>\n",
       "      <td>2.000000</td>\n",
       "      <td>5.000000</td>\n",
       "      <td>2.000000</td>\n",
       "      <td>2.000000</td>\n",
       "      <td>6.000000</td>\n",
       "      <td>2.000000</td>\n",
       "      <td>28.000000</td>\n",
       "      <td>40.000000</td>\n",
       "    </tr>\n",
       "  </tbody>\n",
       "</table>\n",
       "</div>"
      ],
      "text/plain": [
       "               BHK          Rent         Size    Area Type         City  \\\n",
       "count  3671.000000   3671.000000  3671.000000  3671.000000  3671.000000   \n",
       "mean      1.862708  15381.809861   787.119041     0.397984     2.781803   \n",
       "std       0.685149   8630.578385   376.342978     0.490661     1.680001   \n",
       "min       1.000000   1500.000000    10.000000     0.000000     0.000000   \n",
       "25%       1.000000   9000.000000   500.000000     0.000000     2.000000   \n",
       "50%       2.000000  13000.000000   750.000000     0.000000     3.000000   \n",
       "75%       2.000000  20000.000000  1050.000000     1.000000     4.000000   \n",
       "max       6.000000  41000.000000  1730.000000     2.000000     5.000000   \n",
       "\n",
       "       Furnishing Status  Tenant Preferred     Bathroom  Point of Contact  \\\n",
       "count        3671.000000       3671.000000  3671.000000       3671.000000   \n",
       "mean            0.686461          0.327704     1.693816          0.186870   \n",
       "std             0.663185          0.622199     0.624183          0.390559   \n",
       "min             0.000000          0.000000     1.000000          0.000000   \n",
       "25%             0.000000          0.000000     1.000000          0.000000   \n",
       "50%             1.000000          0.000000     2.000000          0.000000   \n",
       "75%             1.000000          0.000000     2.000000          0.000000   \n",
       "max             2.000000          2.000000     6.000000          2.000000   \n",
       "\n",
       "       Floor_Level  Total_Floor  \n",
       "count  3671.000000  3671.000000  \n",
       "mean      2.102152     4.483792  \n",
       "std       2.806410     4.504396  \n",
       "min       0.000000     0.000000  \n",
       "25%       1.000000     2.000000  \n",
       "50%       1.000000     3.000000  \n",
       "75%       3.000000     4.000000  \n",
       "max      28.000000    40.000000  "
      ]
     },
     "execution_count": 134,
     "metadata": {},
     "output_type": "execute_result"
    }
   ],
   "source": [
    "df.describe()"
   ]
  },
  {
   "cell_type": "code",
   "execution_count": 135,
   "id": "09d5b0f9",
   "metadata": {},
   "outputs": [],
   "source": [
    "df. rename(columns = {'Area Type':'Area_Type', 'Point of Contact':'Point_of_Contact', 'Furnishing Status':'Furnishing_Status','Tenant Preferred' : 'Tenant_Preferred'}, inplace = True)"
   ]
  },
  {
   "cell_type": "code",
   "execution_count": 136,
   "id": "e9eb1e56",
   "metadata": {},
   "outputs": [
    {
     "data": {
      "text/html": [
       "<div>\n",
       "<style scoped>\n",
       "    .dataframe tbody tr th:only-of-type {\n",
       "        vertical-align: middle;\n",
       "    }\n",
       "\n",
       "    .dataframe tbody tr th {\n",
       "        vertical-align: top;\n",
       "    }\n",
       "\n",
       "    .dataframe thead th {\n",
       "        text-align: right;\n",
       "    }\n",
       "</style>\n",
       "<table border=\"1\" class=\"dataframe\">\n",
       "  <thead>\n",
       "    <tr style=\"text-align: right;\">\n",
       "      <th></th>\n",
       "      <th>BHK</th>\n",
       "      <th>Rent</th>\n",
       "      <th>Size</th>\n",
       "      <th>Area_Type</th>\n",
       "      <th>City</th>\n",
       "      <th>Furnishing_Status</th>\n",
       "      <th>Tenant_Preferred</th>\n",
       "      <th>Bathroom</th>\n",
       "      <th>Point_of_Contact</th>\n",
       "      <th>Floor_Level</th>\n",
       "      <th>Total_Floor</th>\n",
       "    </tr>\n",
       "  </thead>\n",
       "  <tbody>\n",
       "    <tr>\n",
       "      <th>0</th>\n",
       "      <td>2</td>\n",
       "      <td>10000</td>\n",
       "      <td>1100</td>\n",
       "      <td>0</td>\n",
       "      <td>0</td>\n",
       "      <td>0</td>\n",
       "      <td>0</td>\n",
       "      <td>2</td>\n",
       "      <td>0</td>\n",
       "      <td>0</td>\n",
       "      <td>2</td>\n",
       "    </tr>\n",
       "    <tr>\n",
       "      <th>1</th>\n",
       "      <td>2</td>\n",
       "      <td>20000</td>\n",
       "      <td>800</td>\n",
       "      <td>0</td>\n",
       "      <td>0</td>\n",
       "      <td>1</td>\n",
       "      <td>0</td>\n",
       "      <td>1</td>\n",
       "      <td>0</td>\n",
       "      <td>1</td>\n",
       "      <td>3</td>\n",
       "    </tr>\n",
       "    <tr>\n",
       "      <th>2</th>\n",
       "      <td>2</td>\n",
       "      <td>17000</td>\n",
       "      <td>1000</td>\n",
       "      <td>0</td>\n",
       "      <td>0</td>\n",
       "      <td>1</td>\n",
       "      <td>0</td>\n",
       "      <td>1</td>\n",
       "      <td>0</td>\n",
       "      <td>1</td>\n",
       "      <td>3</td>\n",
       "    </tr>\n",
       "    <tr>\n",
       "      <th>3</th>\n",
       "      <td>2</td>\n",
       "      <td>10000</td>\n",
       "      <td>800</td>\n",
       "      <td>0</td>\n",
       "      <td>0</td>\n",
       "      <td>0</td>\n",
       "      <td>0</td>\n",
       "      <td>1</td>\n",
       "      <td>0</td>\n",
       "      <td>1</td>\n",
       "      <td>2</td>\n",
       "    </tr>\n",
       "    <tr>\n",
       "      <th>4</th>\n",
       "      <td>2</td>\n",
       "      <td>7500</td>\n",
       "      <td>850</td>\n",
       "      <td>1</td>\n",
       "      <td>0</td>\n",
       "      <td>0</td>\n",
       "      <td>1</td>\n",
       "      <td>1</td>\n",
       "      <td>0</td>\n",
       "      <td>1</td>\n",
       "      <td>2</td>\n",
       "    </tr>\n",
       "    <tr>\n",
       "      <th>...</th>\n",
       "      <td>...</td>\n",
       "      <td>...</td>\n",
       "      <td>...</td>\n",
       "      <td>...</td>\n",
       "      <td>...</td>\n",
       "      <td>...</td>\n",
       "      <td>...</td>\n",
       "      <td>...</td>\n",
       "      <td>...</td>\n",
       "      <td>...</td>\n",
       "      <td>...</td>\n",
       "    </tr>\n",
       "    <tr>\n",
       "      <th>4738</th>\n",
       "      <td>2</td>\n",
       "      <td>17000</td>\n",
       "      <td>855</td>\n",
       "      <td>1</td>\n",
       "      <td>5</td>\n",
       "      <td>0</td>\n",
       "      <td>1</td>\n",
       "      <td>2</td>\n",
       "      <td>1</td>\n",
       "      <td>4</td>\n",
       "      <td>5</td>\n",
       "    </tr>\n",
       "    <tr>\n",
       "      <th>4739</th>\n",
       "      <td>2</td>\n",
       "      <td>25000</td>\n",
       "      <td>1040</td>\n",
       "      <td>1</td>\n",
       "      <td>5</td>\n",
       "      <td>0</td>\n",
       "      <td>1</td>\n",
       "      <td>2</td>\n",
       "      <td>0</td>\n",
       "      <td>2</td>\n",
       "      <td>4</td>\n",
       "    </tr>\n",
       "    <tr>\n",
       "      <th>4740</th>\n",
       "      <td>2</td>\n",
       "      <td>12000</td>\n",
       "      <td>1350</td>\n",
       "      <td>0</td>\n",
       "      <td>5</td>\n",
       "      <td>0</td>\n",
       "      <td>0</td>\n",
       "      <td>2</td>\n",
       "      <td>0</td>\n",
       "      <td>2</td>\n",
       "      <td>2</td>\n",
       "    </tr>\n",
       "    <tr>\n",
       "      <th>4741</th>\n",
       "      <td>2</td>\n",
       "      <td>15000</td>\n",
       "      <td>1000</td>\n",
       "      <td>1</td>\n",
       "      <td>5</td>\n",
       "      <td>1</td>\n",
       "      <td>0</td>\n",
       "      <td>2</td>\n",
       "      <td>0</td>\n",
       "      <td>3</td>\n",
       "      <td>5</td>\n",
       "    </tr>\n",
       "    <tr>\n",
       "      <th>4745</th>\n",
       "      <td>2</td>\n",
       "      <td>15000</td>\n",
       "      <td>1000</td>\n",
       "      <td>1</td>\n",
       "      <td>5</td>\n",
       "      <td>0</td>\n",
       "      <td>1</td>\n",
       "      <td>2</td>\n",
       "      <td>0</td>\n",
       "      <td>4</td>\n",
       "      <td>5</td>\n",
       "    </tr>\n",
       "  </tbody>\n",
       "</table>\n",
       "<p>3671 rows × 11 columns</p>\n",
       "</div>"
      ],
      "text/plain": [
       "      BHK   Rent  Size  Area_Type  City  Furnishing_Status  Tenant_Preferred  \\\n",
       "0       2  10000  1100          0     0                  0                 0   \n",
       "1       2  20000   800          0     0                  1                 0   \n",
       "2       2  17000  1000          0     0                  1                 0   \n",
       "3       2  10000   800          0     0                  0                 0   \n",
       "4       2   7500   850          1     0                  0                 1   \n",
       "...   ...    ...   ...        ...   ...                ...               ...   \n",
       "4738    2  17000   855          1     5                  0                 1   \n",
       "4739    2  25000  1040          1     5                  0                 1   \n",
       "4740    2  12000  1350          0     5                  0                 0   \n",
       "4741    2  15000  1000          1     5                  1                 0   \n",
       "4745    2  15000  1000          1     5                  0                 1   \n",
       "\n",
       "      Bathroom  Point_of_Contact  Floor_Level  Total_Floor  \n",
       "0            2                 0            0            2  \n",
       "1            1                 0            1            3  \n",
       "2            1                 0            1            3  \n",
       "3            1                 0            1            2  \n",
       "4            1                 0            1            2  \n",
       "...        ...               ...          ...          ...  \n",
       "4738         2                 1            4            5  \n",
       "4739         2                 0            2            4  \n",
       "4740         2                 0            2            2  \n",
       "4741         2                 0            3            5  \n",
       "4745         2                 0            4            5  \n",
       "\n",
       "[3671 rows x 11 columns]"
      ]
     },
     "execution_count": 136,
     "metadata": {},
     "output_type": "execute_result"
    }
   ],
   "source": [
    "df"
   ]
  },
  {
   "cell_type": "code",
   "execution_count": 137,
   "id": "8041e241",
   "metadata": {},
   "outputs": [],
   "source": [
    "df.to_csv('House_Rent_Dataset logistic.csv',encoding='utf-8')"
   ]
  },
  {
   "cell_type": "markdown",
   "id": "47f0f065",
   "metadata": {},
   "source": [
    "# Data Visualisation"
   ]
  },
  {
   "cell_type": "code",
   "execution_count": 138,
   "id": "dc398022",
   "metadata": {},
   "outputs": [
    {
     "data": {
      "text/plain": [
       "<AxesSubplot:>"
      ]
     },
     "execution_count": 138,
     "metadata": {},
     "output_type": "execute_result"
    },
    {
     "data": {
      "image/png": "[encoded data removed]",
      "text/plain": [
       "<Figure size 432x288 with 2 Axes>"
      ]
     },
     "metadata": {
      "needs_background": "light"
     },
     "output_type": "display_data"
    }
   ],
   "source": [
    "#It means that there are no null values in the map\n",
    "import seaborn as sns\n",
    "sns.heatmap(df.isnull())"
   ]
  },
  {
   "cell_type": "code",
   "execution_count": 139,
   "id": "214e40ee",
   "metadata": {},
   "outputs": [],
   "source": [
    "# Tried to do a dictionary connecting the keys and values for an understanding to know what variables is assigned with digital number\n",
    "areaDict = {'0': \"Super Area\",'1': \"Carpet Area\",'2': \"Built Area\"}\n",
    "TenantPreferredDict = {'0': \"Bachelors/Family\",'1': \"Bachelors\",'2': \"Family\"}\n",
    "PointofContactDict = {'0': \"Contact Owner\",'1': \"Contact Agent\",'2': \"Contact Builder\"}\n",
    "FurnishingStatusDict = {'0': \"Unfurnished\",'1': \"Semi-Furnished\",'2': \"Furnished\"}\n",
    "CityDict = {'0': \"Kolkata\",'1': \"Mumbai\",'2': \"Bangalore\",'3': \"Delhi\",'4': \"Chennai\",'5': \"Hyderabad\"}"
   ]
  },
  {
   "cell_type": "code",
   "execution_count": 140,
   "id": "54b936c1",
   "metadata": {},
   "outputs": [
    {
     "data": {
      "image/png": "[encoded data removed]",
      "text/plain": [
       "<Figure size 2160x2160 with 9 Axes>"
      ]
     },
     "metadata": {},
     "output_type": "display_data"
    }
   ],
   "source": [
    "# to understand what % of super area, Buildarea and carpet area are present in area type , and so on using pie charts\n",
    "\n",
    "col = ['Area_Type','City','Furnishing_Status','Tenant_Preferred','Point_of_Contact','BHK','Bathroom', 'Floor_Level', 'Total_Floor']\n",
    "plt.figure(figsize=(30,30))\n",
    "for i, col in enumerate(col):\n",
    "    axes = plt.subplot(5,2,i + 1)\n",
    "    axes.pie(df[col].value_counts(), labels=df[col].value_counts().index, autopct='%.2f%%')\n",
    "    axes.set_title(col)\n",
    "plt.tight_layout()\n",
    "plt.legend()\n",
    "plt.show()"
   ]
  },
  {
   "cell_type": "code",
   "execution_count": 141,
   "id": "9a3ad691",
   "metadata": {},
   "outputs": [
    {
     "data": {
      "image/png": "[encoded data removed]",
      "text/plain": [
       "<Figure size 1800x1800 with 9 Axes>"
      ]
     },
     "metadata": {
      "needs_background": "light"
     },
     "output_type": "display_data"
    }
   ],
   "source": [
    "#Histogram to know what is the contribution of each factor in area type.\n",
    "\n",
    "col = ['Area_Type','City','Furnishing_Status',\n",
    "           'Tenant_Preferred','Point_of_Contact','Bathroom','BHK','Floor_Level', 'Total_Floor']\n",
    "\n",
    "plt.figure(figsize=(25,25))\n",
    "for i, col in enumerate(col):\n",
    "    axes = plt.subplot(6,2, i + 1)\n",
    "    sns.countplot(x=df[col],ax=axes)\n",
    "plt.tight_layout()\n",
    "plt.show()"
   ]
  },
  {
   "cell_type": "code",
   "execution_count": 142,
   "id": "df0534e4",
   "metadata": {},
   "outputs": [
    {
     "name": "stderr",
     "output_type": "stream",
     "text": [
      "/Users/nishathakur/opt/anaconda3/lib/python3.9/site-packages/seaborn/axisgrid.py:2076: UserWarning: The `size` parameter has been renamed to `height`; please update your code.\n",
      "  warnings.warn(msg, UserWarning)\n"
     ]
    },
    {
     "data": {
      "text/plain": [
       "<seaborn.axisgrid.PairGrid at 0x7fc611102400>"
      ]
     },
     "execution_count": 142,
     "metadata": {},
     "output_type": "execute_result"
    },
    {
     "data": {
      "image/png": "[encoded data removed]",
      "text/plain": [
       "<Figure size 2268x360 with 9 Axes>"
      ]
     },
     "metadata": {
      "needs_background": "light"
     },
     "output_type": "display_data"
    }
   ],
   "source": [
    "#A pairplot plot a pairwise relationships in a dataset. The pairplot function creates a grid of Axes such that each variable in data will by shared in the y-axis across a single row and in the x-axis across a single column.\n",
    "\n",
    "#df = pd.read_csv('House_Rent_Dataset visualisation.csv', header=0)\n",
    "\n",
    "sns.pairplot(df, x_vars = ['Area_Type','City','Furnishing_Status',\n",
    "           'Tenant_Preferred','Point_of_Contact','Bathroom','BHK','Floor_Level', 'Total_Floor'], y_vars = 'Rent',size = 5, aspect =0.7,kind=\"reg\")"
   ]
  },
  {
   "cell_type": "code",
   "execution_count": 143,
   "id": "e9f46f0b",
   "metadata": {},
   "outputs": [
    {
     "data": {
      "text/plain": [
       "Text(0.5, 0, 'Rent')"
      ]
     },
     "execution_count": 143,
     "metadata": {},
     "output_type": "execute_result"
    },
    {
     "data": {
      "image/png": "[encoded data removed]",
      "text/plain": [
       "<Figure size 432x288 with 1 Axes>"
      ]
     },
     "metadata": {
      "needs_background": "light"
     },
     "output_type": "display_data"
    }
   ],
   "source": [
    "plt.hist(df['Rent'], bins=20)\n",
    "plt.xlabel('Rent')"
   ]
  },
  {
   "cell_type": "markdown",
   "id": "979867d9",
   "metadata": {},
   "source": [
    "# Statistical Testing"
   ]
  },
  {
   "cell_type": "code",
   "execution_count": 144,
   "id": "4c7cd43d",
   "metadata": {},
   "outputs": [
    {
     "name": "stderr",
     "output_type": "stream",
     "text": [
      "/Users/nishathakur/opt/anaconda3/lib/python3.9/site-packages/seaborn/distributions.py:2619: FutureWarning: `distplot` is a deprecated function and will be removed in a future version. Please adapt your code to use either `displot` (a figure-level function with similar flexibility) or `histplot` (an axes-level function for histograms).\n",
      "  warnings.warn(msg, FutureWarning)\n"
     ]
    },
    {
     "data": {
      "text/plain": [
       "Text(0, 0.5, 'Density')"
      ]
     },
     "execution_count": 144,
     "metadata": {},
     "output_type": "execute_result"
    },
    {
     "data": {
      "image/png": "[encoded data removed]",
      "text/plain": [
       "<Figure size 432x288 with 1 Axes>"
      ]
     },
     "metadata": {
      "needs_background": "light"
     },
     "output_type": "display_data"
    }
   ],
   "source": [
    "import seaborn as sns\n",
    "\n",
    "sns.distplot(df['Rent'], label='Rent')\n",
    "\n",
    "plt.legend(prop={'size':12})\n",
    "plt.title('Distribution of Rent')\n",
    "plt.xlabel('Rent')\n",
    "plt.ylabel('Density')"
   ]
  },
  {
   "cell_type": "code",
   "execution_count": 145,
   "id": "481b97c2",
   "metadata": {},
   "outputs": [
    {
     "name": "stderr",
     "output_type": "stream",
     "text": [
      "/Users/nishathakur/opt/anaconda3/lib/python3.9/site-packages/seaborn/distributions.py:2619: FutureWarning: `distplot` is a deprecated function and will be removed in a future version. Please adapt your code to use either `displot` (a figure-level function with similar flexibility) or `histplot` (an axes-level function for histograms).\n",
      "  warnings.warn(msg, FutureWarning)\n"
     ]
    },
    {
     "data": {
      "text/plain": [
       "Text(0, 0.5, 'Density')"
      ]
     },
     "execution_count": 145,
     "metadata": {},
     "output_type": "execute_result"
    },
    {
     "data": {
      "image/png": "[encoded data removed]",
      "text/plain": [
       "<Figure size 432x288 with 1 Axes>"
      ]
     },
     "metadata": {
      "needs_background": "light"
     },
     "output_type": "display_data"
    }
   ],
   "source": [
    "import seaborn as sns\n",
    "\n",
    "sns.distplot(df['Size'], label='Size')\n",
    "\n",
    "plt.legend(prop={'size':12})\n",
    "plt.title('Distribution of Size')\n",
    "plt.xlabel('Size')\n",
    "plt.ylabel('Density')"
   ]
  },
  {
   "cell_type": "markdown",
   "id": "a239fc32",
   "metadata": {},
   "source": [
    "Null Hypothesis: When looking at rental properties in India, the factors we examined do not demonstrate an association between the property's price and specific amenities; those factors cannot be used to predict the overall cost of the property.\n",
    "  \n",
    "  Alternate Hypothesis: When looking at rental properties in India, the factors we examined demonstrate an association between the property's price and specific amenities; those factors can be used to predict the overall cost of the property."
   ]
  },
  {
   "cell_type": "code",
   "execution_count": 146,
   "id": "8cfee03a",
   "metadata": {},
   "outputs": [
    {
     "name": "stdout",
     "output_type": "stream",
     "text": [
      "F-Value:  11518.43827502773 P-Value:  0.0\n"
     ]
    }
   ],
   "source": [
    "fvalue, pvalue = stats.f_oneway(df['Rent'], df['BHK'], df['Size'], df['Bathroom'], df['Area_Type'], df['Furnishing_Status'], df['Tenant_Preferred'], df['Point_of_Contact'], df['City'])\n",
    "print('F-Value: ', fvalue, 'P-Value: ', pvalue)"
   ]
  },
  {
   "cell_type": "code",
   "execution_count": 147,
   "id": "8261080a",
   "metadata": {},
   "outputs": [
    {
     "name": "stdout",
     "output_type": "stream",
     "text": [
      "F-Value:  11518.43827502773 P-Value:  0.0\n",
      "Reject the null hypothesis\n"
     ]
    }
   ],
   "source": [
    "#Hypothesis Test\n",
    "from scipy import stats\n",
    "k2, p = stats.f_oneway(df['Rent'], df['BHK'], df['Size'], df['Bathroom'], df['Area_Type'], df['Furnishing_Status'], df['Tenant_Preferred'], df['Point_of_Contact'], df['City'])\n",
    "print('F-Value: ', fvalue, 'P-Value: ', pvalue)\n",
    "alpha = 0.05\n",
    "if p < alpha:  # null hypothesis: x comes from a normal distribution\n",
    "    print(\"Reject the null hypothesis\")\n",
    "else:\n",
    "    print(\"Fail to reject the null hypothesis\")"
   ]
  },
  {
   "cell_type": "markdown",
   "id": "c4f274a1",
   "metadata": {},
   "source": [
    "# Annova Testing"
   ]
  },
  {
   "cell_type": "code",
   "execution_count": 148,
   "id": "2dffbd8b",
   "metadata": {},
   "outputs": [
    {
     "data": {
      "text/html": [
       "<div>\n",
       "<style scoped>\n",
       "    .dataframe tbody tr th:only-of-type {\n",
       "        vertical-align: middle;\n",
       "    }\n",
       "\n",
       "    .dataframe tbody tr th {\n",
       "        vertical-align: top;\n",
       "    }\n",
       "\n",
       "    .dataframe thead th {\n",
       "        text-align: right;\n",
       "    }\n",
       "</style>\n",
       "<table border=\"1\" class=\"dataframe\">\n",
       "  <thead>\n",
       "    <tr style=\"text-align: right;\">\n",
       "      <th></th>\n",
       "      <th>sum_sq</th>\n",
       "      <th>df</th>\n",
       "      <th>F</th>\n",
       "      <th>PR(&gt;F)</th>\n",
       "    </tr>\n",
       "  </thead>\n",
       "  <tbody>\n",
       "    <tr>\n",
       "      <th>C(BHK)</th>\n",
       "      <td>3.411833e+09</td>\n",
       "      <td>5.0</td>\n",
       "      <td>24.606391</td>\n",
       "      <td>2.117096e-24</td>\n",
       "    </tr>\n",
       "    <tr>\n",
       "      <th>C(Size)</th>\n",
       "      <td>2.823003e+10</td>\n",
       "      <td>411.0</td>\n",
       "      <td>2.476850</td>\n",
       "      <td>2.451480e-43</td>\n",
       "    </tr>\n",
       "    <tr>\n",
       "      <th>C(Bathroom)</th>\n",
       "      <td>2.467465e+09</td>\n",
       "      <td>4.0</td>\n",
       "      <td>22.244429</td>\n",
       "      <td>3.853949e-18</td>\n",
       "    </tr>\n",
       "    <tr>\n",
       "      <th>C(City)</th>\n",
       "      <td>3.838897e+10</td>\n",
       "      <td>5.0</td>\n",
       "      <td>276.864107</td>\n",
       "      <td>4.448568e-247</td>\n",
       "    </tr>\n",
       "    <tr>\n",
       "      <th>C(Point_of_Contact)</th>\n",
       "      <td>7.547858e+09</td>\n",
       "      <td>2.0</td>\n",
       "      <td>136.089287</td>\n",
       "      <td>1.781999e-57</td>\n",
       "    </tr>\n",
       "    <tr>\n",
       "      <th>C(Furnishing_Status)</th>\n",
       "      <td>3.065109e+09</td>\n",
       "      <td>2.0</td>\n",
       "      <td>55.264492</td>\n",
       "      <td>2.509602e-24</td>\n",
       "    </tr>\n",
       "    <tr>\n",
       "      <th>C(Tenant_Preferred)</th>\n",
       "      <td>2.095728e+08</td>\n",
       "      <td>2.0</td>\n",
       "      <td>3.778636</td>\n",
       "      <td>2.295472e-02</td>\n",
       "    </tr>\n",
       "    <tr>\n",
       "      <th>C(Area_Type)</th>\n",
       "      <td>5.469493e+07</td>\n",
       "      <td>2.0</td>\n",
       "      <td>0.986160</td>\n",
       "      <td>3.731184e-01</td>\n",
       "    </tr>\n",
       "    <tr>\n",
       "      <th>Residual</th>\n",
       "      <td>8.976613e+10</td>\n",
       "      <td>3237.0</td>\n",
       "      <td>NaN</td>\n",
       "      <td>NaN</td>\n",
       "    </tr>\n",
       "  </tbody>\n",
       "</table>\n",
       "</div>"
      ],
      "text/plain": [
       "                            sum_sq      df           F         PR(>F)\n",
       "C(BHK)                3.411833e+09     5.0   24.606391   2.117096e-24\n",
       "C(Size)               2.823003e+10   411.0    2.476850   2.451480e-43\n",
       "C(Bathroom)           2.467465e+09     4.0   22.244429   3.853949e-18\n",
       "C(City)               3.838897e+10     5.0  276.864107  4.448568e-247\n",
       "C(Point_of_Contact)   7.547858e+09     2.0  136.089287   1.781999e-57\n",
       "C(Furnishing_Status)  3.065109e+09     2.0   55.264492   2.509602e-24\n",
       "C(Tenant_Preferred)   2.095728e+08     2.0    3.778636   2.295472e-02\n",
       "C(Area_Type)          5.469493e+07     2.0    0.986160   3.731184e-01\n",
       "Residual              8.976613e+10  3237.0         NaN            NaN"
      ]
     },
     "execution_count": 148,
     "metadata": {},
     "output_type": "execute_result"
    }
   ],
   "source": [
    "import statsmodels.api as sm\n",
    "from statsmodels.formula.api import ols\n",
    "\n",
    "model = ols('Rent ~ C(BHK) + C(Size) + C(Bathroom) + C(City) + C(Point_of_Contact) + C(Furnishing_Status) + C(Tenant_Preferred) + C(Area_Type)', data=df).fit()\n",
    "sm.stats.anova_lm(model, typ=2)"
   ]
  },
  {
   "cell_type": "code",
   "execution_count": 149,
   "id": "68ce715c",
   "metadata": {},
   "outputs": [
    {
     "name": "stdout",
     "output_type": "stream",
     "text": [
      "Requirement already satisfied: scipy in ./opt/anaconda3/lib/python3.9/site-packages (1.7.3)\r\n",
      "Requirement already satisfied: numpy<1.23.0,>=1.16.5 in ./opt/anaconda3/lib/python3.9/site-packages (from scipy) (1.21.5)\r\n"
     ]
    }
   ],
   "source": [
    "!pip install scipy"
   ]
  },
  {
   "cell_type": "code",
   "execution_count": 150,
   "id": "a3691128",
   "metadata": {},
   "outputs": [],
   "source": [
    "from scipy import stats\n",
    "import scipy.stats as stats\n",
    "from scipy.stats import f_oneway"
   ]
  },
  {
   "cell_type": "code",
   "execution_count": 151,
   "id": "002bb0e0",
   "metadata": {},
   "outputs": [
    {
     "name": "stdout",
     "output_type": "stream",
     "text": [
      "F-Value:  11518.43827502773 P-Value:  0.0\n"
     ]
    }
   ],
   "source": [
    "fvalue, pvalue = stats.f_oneway(df['Rent'], df['BHK'], df['Size'], df['Bathroom'], df['Area_Type'], df['Furnishing_Status'], df['Tenant_Preferred'], df['Point_of_Contact'], df['City'])\n",
    "print('F-Value: ', fvalue, 'P-Value: ', pvalue)"
   ]
  },
  {
   "cell_type": "markdown",
   "id": "0921ce3a",
   "metadata": {},
   "source": [
    "# Correlation"
   ]
  },
  {
   "cell_type": "markdown",
   "id": "bff6fd13",
   "metadata": {},
   "source": [
    "#To understand what variables are closer to the rent, a correlation is done\n",
    "#corr_matrix\n",
    "df = pd.read_csv('House_Rent_Dataset correlation.csv', header=0)"
   ]
  },
  {
   "cell_type": "code",
   "execution_count": 152,
   "id": "402a830a",
   "metadata": {},
   "outputs": [
    {
     "data": {
      "text/plain": [
       "Rent                 1.000000\n",
       "Bathroom             0.467725\n",
       "Total_Floor          0.410281\n",
       "Point_of_Contact     0.410049\n",
       "BHK                  0.363214\n",
       "Floor_Level          0.349286\n",
       "Size                 0.348329\n",
       "Area_Type            0.217843\n",
       "Furnishing_Status    0.212950\n",
       "Tenant_Preferred     0.172194\n",
       "City                -0.048659\n",
       "Name: Rent, dtype: float64"
      ]
     },
     "execution_count": 152,
     "metadata": {},
     "output_type": "execute_result"
    }
   ],
   "source": [
    "corr_matrix = df.corr()\n",
    "corr_matrix['Rent'].sort_values(ascending=False)"
   ]
  },
  {
   "cell_type": "code",
   "execution_count": 153,
   "id": "00d771ee",
   "metadata": {},
   "outputs": [
    {
     "data": {
      "text/html": [
       "<div>\n",
       "<style scoped>\n",
       "    .dataframe tbody tr th:only-of-type {\n",
       "        vertical-align: middle;\n",
       "    }\n",
       "\n",
       "    .dataframe tbody tr th {\n",
       "        vertical-align: top;\n",
       "    }\n",
       "\n",
       "    .dataframe thead th {\n",
       "        text-align: right;\n",
       "    }\n",
       "</style>\n",
       "<table border=\"1\" class=\"dataframe\">\n",
       "  <thead>\n",
       "    <tr style=\"text-align: right;\">\n",
       "      <th></th>\n",
       "      <th>BHK</th>\n",
       "      <th>Rent</th>\n",
       "      <th>Size</th>\n",
       "      <th>Area_Type</th>\n",
       "      <th>City</th>\n",
       "      <th>Furnishing_Status</th>\n",
       "      <th>Tenant_Preferred</th>\n",
       "      <th>Bathroom</th>\n",
       "      <th>Point_of_Contact</th>\n",
       "      <th>Floor_Level</th>\n",
       "      <th>Total_Floor</th>\n",
       "    </tr>\n",
       "  </thead>\n",
       "  <tbody>\n",
       "    <tr>\n",
       "      <th>BHK</th>\n",
       "      <td>1.000000</td>\n",
       "      <td>0.363214</td>\n",
       "      <td>0.648807</td>\n",
       "      <td>0.020737</td>\n",
       "      <td>0.147958</td>\n",
       "      <td>0.083340</td>\n",
       "      <td>0.076166</td>\n",
       "      <td>0.684727</td>\n",
       "      <td>-0.045636</td>\n",
       "      <td>0.001769</td>\n",
       "      <td>0.004046</td>\n",
       "    </tr>\n",
       "    <tr>\n",
       "      <th>Rent</th>\n",
       "      <td>0.363214</td>\n",
       "      <td>1.000000</td>\n",
       "      <td>0.348329</td>\n",
       "      <td>0.217843</td>\n",
       "      <td>-0.048659</td>\n",
       "      <td>0.212950</td>\n",
       "      <td>0.172194</td>\n",
       "      <td>0.467725</td>\n",
       "      <td>0.410049</td>\n",
       "      <td>0.349286</td>\n",
       "      <td>0.410281</td>\n",
       "    </tr>\n",
       "    <tr>\n",
       "      <th>Size</th>\n",
       "      <td>0.648807</td>\n",
       "      <td>0.348329</td>\n",
       "      <td>1.000000</td>\n",
       "      <td>-0.046737</td>\n",
       "      <td>0.236605</td>\n",
       "      <td>0.143761</td>\n",
       "      <td>0.087016</td>\n",
       "      <td>0.616843</td>\n",
       "      <td>-0.055849</td>\n",
       "      <td>0.013581</td>\n",
       "      <td>0.018894</td>\n",
       "    </tr>\n",
       "    <tr>\n",
       "      <th>Area_Type</th>\n",
       "      <td>0.020737</td>\n",
       "      <td>0.217843</td>\n",
       "      <td>-0.046737</td>\n",
       "      <td>1.000000</td>\n",
       "      <td>-0.198734</td>\n",
       "      <td>-0.008307</td>\n",
       "      <td>0.334007</td>\n",
       "      <td>0.022540</td>\n",
       "      <td>0.472044</td>\n",
       "      <td>0.144206</td>\n",
       "      <td>0.158569</td>\n",
       "    </tr>\n",
       "    <tr>\n",
       "      <th>City</th>\n",
       "      <td>0.147958</td>\n",
       "      <td>-0.048659</td>\n",
       "      <td>0.236605</td>\n",
       "      <td>-0.198734</td>\n",
       "      <td>1.000000</td>\n",
       "      <td>0.034693</td>\n",
       "      <td>-0.048357</td>\n",
       "      <td>0.263676</td>\n",
       "      <td>-0.189083</td>\n",
       "      <td>-0.051041</td>\n",
       "      <td>-0.094320</td>\n",
       "    </tr>\n",
       "    <tr>\n",
       "      <th>Furnishing_Status</th>\n",
       "      <td>0.083340</td>\n",
       "      <td>0.212950</td>\n",
       "      <td>0.143761</td>\n",
       "      <td>-0.008307</td>\n",
       "      <td>0.034693</td>\n",
       "      <td>1.000000</td>\n",
       "      <td>-0.026290</td>\n",
       "      <td>0.137298</td>\n",
       "      <td>0.037964</td>\n",
       "      <td>0.074018</td>\n",
       "      <td>0.068397</td>\n",
       "    </tr>\n",
       "    <tr>\n",
       "      <th>Tenant_Preferred</th>\n",
       "      <td>0.076166</td>\n",
       "      <td>0.172194</td>\n",
       "      <td>0.087016</td>\n",
       "      <td>0.334007</td>\n",
       "      <td>-0.048357</td>\n",
       "      <td>-0.026290</td>\n",
       "      <td>1.000000</td>\n",
       "      <td>0.114599</td>\n",
       "      <td>0.230084</td>\n",
       "      <td>0.118769</td>\n",
       "      <td>0.122792</td>\n",
       "    </tr>\n",
       "    <tr>\n",
       "      <th>Bathroom</th>\n",
       "      <td>0.684727</td>\n",
       "      <td>0.467725</td>\n",
       "      <td>0.616843</td>\n",
       "      <td>0.022540</td>\n",
       "      <td>0.263676</td>\n",
       "      <td>0.137298</td>\n",
       "      <td>0.114599</td>\n",
       "      <td>1.000000</td>\n",
       "      <td>0.042521</td>\n",
       "      <td>0.132501</td>\n",
       "      <td>0.138275</td>\n",
       "    </tr>\n",
       "    <tr>\n",
       "      <th>Point_of_Contact</th>\n",
       "      <td>-0.045636</td>\n",
       "      <td>0.410049</td>\n",
       "      <td>-0.055849</td>\n",
       "      <td>0.472044</td>\n",
       "      <td>-0.189083</td>\n",
       "      <td>0.037964</td>\n",
       "      <td>0.230084</td>\n",
       "      <td>0.042521</td>\n",
       "      <td>1.000000</td>\n",
       "      <td>0.257031</td>\n",
       "      <td>0.318308</td>\n",
       "    </tr>\n",
       "    <tr>\n",
       "      <th>Floor_Level</th>\n",
       "      <td>0.001769</td>\n",
       "      <td>0.349286</td>\n",
       "      <td>0.013581</td>\n",
       "      <td>0.144206</td>\n",
       "      <td>-0.051041</td>\n",
       "      <td>0.074018</td>\n",
       "      <td>0.118769</td>\n",
       "      <td>0.132501</td>\n",
       "      <td>0.257031</td>\n",
       "      <td>1.000000</td>\n",
       "      <td>0.791315</td>\n",
       "    </tr>\n",
       "    <tr>\n",
       "      <th>Total_Floor</th>\n",
       "      <td>0.004046</td>\n",
       "      <td>0.410281</td>\n",
       "      <td>0.018894</td>\n",
       "      <td>0.158569</td>\n",
       "      <td>-0.094320</td>\n",
       "      <td>0.068397</td>\n",
       "      <td>0.122792</td>\n",
       "      <td>0.138275</td>\n",
       "      <td>0.318308</td>\n",
       "      <td>0.791315</td>\n",
       "      <td>1.000000</td>\n",
       "    </tr>\n",
       "  </tbody>\n",
       "</table>\n",
       "</div>"
      ],
      "text/plain": [
       "                        BHK      Rent      Size  Area_Type      City  \\\n",
       "BHK                1.000000  0.363214  0.648807   0.020737  0.147958   \n",
       "Rent               0.363214  1.000000  0.348329   0.217843 -0.048659   \n",
       "Size               0.648807  0.348329  1.000000  -0.046737  0.236605   \n",
       "Area_Type          0.020737  0.217843 -0.046737   1.000000 -0.198734   \n",
       "City               0.147958 -0.048659  0.236605  -0.198734  1.000000   \n",
       "Furnishing_Status  0.083340  0.212950  0.143761  -0.008307  0.034693   \n",
       "Tenant_Preferred   0.076166  0.172194  0.087016   0.334007 -0.048357   \n",
       "Bathroom           0.684727  0.467725  0.616843   0.022540  0.263676   \n",
       "Point_of_Contact  -0.045636  0.410049 -0.055849   0.472044 -0.189083   \n",
       "Floor_Level        0.001769  0.349286  0.013581   0.144206 -0.051041   \n",
       "Total_Floor        0.004046  0.410281  0.018894   0.158569 -0.094320   \n",
       "\n",
       "                   Furnishing_Status  Tenant_Preferred  Bathroom  \\\n",
       "BHK                         0.083340          0.076166  0.684727   \n",
       "Rent                        0.212950          0.172194  0.467725   \n",
       "Size                        0.143761          0.087016  0.616843   \n",
       "Area_Type                  -0.008307          0.334007  0.022540   \n",
       "City                        0.034693         -0.048357  0.263676   \n",
       "Furnishing_Status           1.000000         -0.026290  0.137298   \n",
       "Tenant_Preferred           -0.026290          1.000000  0.114599   \n",
       "Bathroom                    0.137298          0.114599  1.000000   \n",
       "Point_of_Contact            0.037964          0.230084  0.042521   \n",
       "Floor_Level                 0.074018          0.118769  0.132501   \n",
       "Total_Floor                 0.068397          0.122792  0.138275   \n",
       "\n",
       "                   Point_of_Contact  Floor_Level  Total_Floor  \n",
       "BHK                       -0.045636     0.001769     0.004046  \n",
       "Rent                       0.410049     0.349286     0.410281  \n",
       "Size                      -0.055849     0.013581     0.018894  \n",
       "Area_Type                  0.472044     0.144206     0.158569  \n",
       "City                      -0.189083    -0.051041    -0.094320  \n",
       "Furnishing_Status          0.037964     0.074018     0.068397  \n",
       "Tenant_Preferred           0.230084     0.118769     0.122792  \n",
       "Bathroom                   0.042521     0.132501     0.138275  \n",
       "Point_of_Contact           1.000000     0.257031     0.318308  \n",
       "Floor_Level                0.257031     1.000000     0.791315  \n",
       "Total_Floor                0.318308     0.791315     1.000000  "
      ]
     },
     "execution_count": 153,
     "metadata": {},
     "output_type": "execute_result"
    }
   ],
   "source": [
    "df.corr()"
   ]
  },
  {
   "cell_type": "code",
   "execution_count": 154,
   "id": "3950fe7c",
   "metadata": {},
   "outputs": [
    {
     "data": {
      "image/png": "[encoded data removed]",
      "text/plain": [
       "<Figure size 432x288 with 2 Axes>"
      ]
     },
     "metadata": {
      "needs_background": "light"
     },
     "output_type": "display_data"
    }
   ],
   "source": [
    "ax = sns.heatmap(corr_matrix,linewidth=0.10)\n",
    "plt.show()"
   ]
  },
  {
   "cell_type": "code",
   "execution_count": 155,
   "id": "eb2cbde3",
   "metadata": {},
   "outputs": [],
   "source": [
    "df = df.drop(['Area_Type','Furnishing_Status','Tenant_Preferred','City'], axis=1)"
   ]
  },
  {
   "cell_type": "code",
   "execution_count": 156,
   "id": "106f7c23",
   "metadata": {},
   "outputs": [
    {
     "data": {
      "text/html": [
       "<div>\n",
       "<style scoped>\n",
       "    .dataframe tbody tr th:only-of-type {\n",
       "        vertical-align: middle;\n",
       "    }\n",
       "\n",
       "    .dataframe tbody tr th {\n",
       "        vertical-align: top;\n",
       "    }\n",
       "\n",
       "    .dataframe thead th {\n",
       "        text-align: right;\n",
       "    }\n",
       "</style>\n",
       "<table border=\"1\" class=\"dataframe\">\n",
       "  <thead>\n",
       "    <tr style=\"text-align: right;\">\n",
       "      <th></th>\n",
       "      <th>BHK</th>\n",
       "      <th>Rent</th>\n",
       "      <th>Size</th>\n",
       "      <th>Bathroom</th>\n",
       "      <th>Point_of_Contact</th>\n",
       "      <th>Floor_Level</th>\n",
       "      <th>Total_Floor</th>\n",
       "    </tr>\n",
       "  </thead>\n",
       "  <tbody>\n",
       "    <tr>\n",
       "      <th>0</th>\n",
       "      <td>2</td>\n",
       "      <td>10000</td>\n",
       "      <td>1100</td>\n",
       "      <td>2</td>\n",
       "      <td>0</td>\n",
       "      <td>0</td>\n",
       "      <td>2</td>\n",
       "    </tr>\n",
       "    <tr>\n",
       "      <th>1</th>\n",
       "      <td>2</td>\n",
       "      <td>20000</td>\n",
       "      <td>800</td>\n",
       "      <td>1</td>\n",
       "      <td>0</td>\n",
       "      <td>1</td>\n",
       "      <td>3</td>\n",
       "    </tr>\n",
       "    <tr>\n",
       "      <th>2</th>\n",
       "      <td>2</td>\n",
       "      <td>17000</td>\n",
       "      <td>1000</td>\n",
       "      <td>1</td>\n",
       "      <td>0</td>\n",
       "      <td>1</td>\n",
       "      <td>3</td>\n",
       "    </tr>\n",
       "    <tr>\n",
       "      <th>3</th>\n",
       "      <td>2</td>\n",
       "      <td>10000</td>\n",
       "      <td>800</td>\n",
       "      <td>1</td>\n",
       "      <td>0</td>\n",
       "      <td>1</td>\n",
       "      <td>2</td>\n",
       "    </tr>\n",
       "    <tr>\n",
       "      <th>4</th>\n",
       "      <td>2</td>\n",
       "      <td>7500</td>\n",
       "      <td>850</td>\n",
       "      <td>1</td>\n",
       "      <td>0</td>\n",
       "      <td>1</td>\n",
       "      <td>2</td>\n",
       "    </tr>\n",
       "  </tbody>\n",
       "</table>\n",
       "</div>"
      ],
      "text/plain": [
       "   BHK   Rent  Size  Bathroom  Point_of_Contact  Floor_Level  Total_Floor\n",
       "0    2  10000  1100         2                 0            0            2\n",
       "1    2  20000   800         1                 0            1            3\n",
       "2    2  17000  1000         1                 0            1            3\n",
       "3    2  10000   800         1                 0            1            2\n",
       "4    2   7500   850         1                 0            1            2"
      ]
     },
     "execution_count": 156,
     "metadata": {},
     "output_type": "execute_result"
    }
   ],
   "source": [
    "df.head()"
   ]
  },
  {
   "cell_type": "markdown",
   "id": "b149e17a",
   "metadata": {},
   "source": [
    "# Multiple Linear Regression Model Development\n",
    "As the Bathroom, Total floor, Point of Contact, BHK, floor size and Size are correlated to the rent. We are considering the variables in the model development and dropping the rest\n"
   ]
  },
  {
   "cell_type": "code",
   "execution_count": 157,
   "id": "c0731fbb",
   "metadata": {},
   "outputs": [
    {
     "data": {
      "image/png": "[encoded data removed]",
      "text/plain": [
       "<Figure size 432x288 with 1 Axes>"
      ]
     },
     "metadata": {
      "needs_background": "light"
     },
     "output_type": "display_data"
    }
   ],
   "source": [
    "import statsmodels.api as sm\n",
    "from scipy.stats import shapiro\n",
    "from scipy.stats import ttest_1samp\n",
    "\n",
    "fig = sm.qqplot(df, line='45')\n",
    "plt.show()"
   ]
  },
  {
   "cell_type": "code",
   "execution_count": 158,
   "id": "5bae0270",
   "metadata": {},
   "outputs": [
    {
     "data": {
      "text/html": [
       "<div>\n",
       "<style scoped>\n",
       "    .dataframe tbody tr th:only-of-type {\n",
       "        vertical-align: middle;\n",
       "    }\n",
       "\n",
       "    .dataframe tbody tr th {\n",
       "        vertical-align: top;\n",
       "    }\n",
       "\n",
       "    .dataframe thead th {\n",
       "        text-align: right;\n",
       "    }\n",
       "</style>\n",
       "<table border=\"1\" class=\"dataframe\">\n",
       "  <thead>\n",
       "    <tr style=\"text-align: right;\">\n",
       "      <th></th>\n",
       "      <th>BHK</th>\n",
       "      <th>Rent</th>\n",
       "      <th>Size</th>\n",
       "      <th>Bathroom</th>\n",
       "      <th>Point_of_Contact</th>\n",
       "      <th>Floor_Level</th>\n",
       "      <th>Total_Floor</th>\n",
       "    </tr>\n",
       "  </thead>\n",
       "  <tbody>\n",
       "    <tr>\n",
       "      <th>0</th>\n",
       "      <td>2</td>\n",
       "      <td>10000</td>\n",
       "      <td>1100</td>\n",
       "      <td>2</td>\n",
       "      <td>0</td>\n",
       "      <td>0</td>\n",
       "      <td>2</td>\n",
       "    </tr>\n",
       "    <tr>\n",
       "      <th>1</th>\n",
       "      <td>2</td>\n",
       "      <td>20000</td>\n",
       "      <td>800</td>\n",
       "      <td>1</td>\n",
       "      <td>0</td>\n",
       "      <td>1</td>\n",
       "      <td>3</td>\n",
       "    </tr>\n",
       "    <tr>\n",
       "      <th>2</th>\n",
       "      <td>2</td>\n",
       "      <td>17000</td>\n",
       "      <td>1000</td>\n",
       "      <td>1</td>\n",
       "      <td>0</td>\n",
       "      <td>1</td>\n",
       "      <td>3</td>\n",
       "    </tr>\n",
       "    <tr>\n",
       "      <th>3</th>\n",
       "      <td>2</td>\n",
       "      <td>10000</td>\n",
       "      <td>800</td>\n",
       "      <td>1</td>\n",
       "      <td>0</td>\n",
       "      <td>1</td>\n",
       "      <td>2</td>\n",
       "    </tr>\n",
       "    <tr>\n",
       "      <th>4</th>\n",
       "      <td>2</td>\n",
       "      <td>7500</td>\n",
       "      <td>850</td>\n",
       "      <td>1</td>\n",
       "      <td>0</td>\n",
       "      <td>1</td>\n",
       "      <td>2</td>\n",
       "    </tr>\n",
       "  </tbody>\n",
       "</table>\n",
       "</div>"
      ],
      "text/plain": [
       "   BHK   Rent  Size  Bathroom  Point_of_Contact  Floor_Level  Total_Floor\n",
       "0    2  10000  1100         2                 0            0            2\n",
       "1    2  20000   800         1                 0            1            3\n",
       "2    2  17000  1000         1                 0            1            3\n",
       "3    2  10000   800         1                 0            1            2\n",
       "4    2   7500   850         1                 0            1            2"
      ]
     },
     "execution_count": 158,
     "metadata": {},
     "output_type": "execute_result"
    }
   ],
   "source": [
    "df.head()"
   ]
  },
  {
   "cell_type": "code",
   "execution_count": 159,
   "id": "436a6add",
   "metadata": {},
   "outputs": [],
   "source": [
    "#Output\n",
    "y = df['Rent']\n",
    "df = df.drop(['Rent'], axis=1)"
   ]
  },
  {
   "cell_type": "code",
   "execution_count": 160,
   "id": "67906673",
   "metadata": {},
   "outputs": [],
   "source": [
    "#This means the Size and BHK are considering by dropping the Size and BHK\n",
    "df1 = df.drop(['Point_of_Contact','Floor_Level', 'Total_Floor'], axis = 1)\n",
    "df2 = df.drop(['Size','Point_of_Contact'], axis = 1)\n",
    "df3 = df.drop(['Size','Bathroom'], axis = 1)\n",
    "df4 = df.drop(['BHK','Point_of_Contact', 'Floor_Level'], axis = 1)\n",
    "df5 = df.drop(['BHK','Bathroom'], axis = 1)\n",
    "df6 = df.drop(['BHK','Size'], axis = 1)\n",
    "#Considering all factors\n",
    "df7 = df"
   ]
  },
  {
   "cell_type": "code",
   "execution_count": 161,
   "id": "442dfe04",
   "metadata": {},
   "outputs": [],
   "source": [
    "#this data keeps 20% data in testing and 80% in training\n",
    "\n",
    "from sklearn.model_selection import train_test_split\n",
    "from sklearn.metrics import r2_score\n",
    "import sklearn\n",
    "from sklearn import linear_model\n",
    "\n",
    "X_train1, X_test1, y_train1, y_test1 = train_test_split(df1, y, test_size=0.2, random_state=21)\n",
    "X_train2, X_test2, y_train2, y_test2 = train_test_split(df2, y, test_size=0.2, random_state=21)\n",
    "X_train3, X_test3, y_train3, y_test3 = train_test_split(df3, y, test_size=0.2, random_state=21)\n",
    "X_train4, X_test4, y_train4, y_test4 = train_test_split(df4, y, test_size=0.2, random_state=21)\n",
    "X_train5, X_test5, y_train5, y_test5 = train_test_split(df5, y, test_size=0.2, random_state=21)\n",
    "X_train6, X_test6, y_train6, y_test6 = train_test_split(df6, y, test_size=0.2, random_state=21)\n",
    "X_train7, X_test7, y_train7, y_test7 = train_test_split(df7, y, test_size=0.2, random_state=21)"
   ]
  },
  {
   "cell_type": "code",
   "execution_count": 162,
   "id": "edb5806a",
   "metadata": {},
   "outputs": [
    {
     "data": {
      "text/plain": [
       "LinearRegression()"
      ]
     },
     "execution_count": 162,
     "metadata": {},
     "output_type": "execute_result"
    }
   ],
   "source": [
    "#This is formula, i am fitting the data \n",
    "model1 = linear_model.LinearRegression()\n",
    "model1.fit(X_train1, y_train1)\n",
    "\n",
    "model2 = linear_model.LinearRegression()\n",
    "model2.fit(X_train2, y_train2)\n",
    "\n",
    "model3 = linear_model.LinearRegression()\n",
    "model3.fit(X_train3, y_train3)\n",
    "\n",
    "model4 = linear_model.LinearRegression()\n",
    "model4.fit(X_train4, y_train4)\n",
    "\n",
    "model5 = linear_model.LinearRegression()\n",
    "model5.fit(X_train5, y_train5)\n",
    "\n",
    "model6 = linear_model.LinearRegression()\n",
    "model6.fit(X_train6, y_train6)\n",
    "\n",
    "model7 = linear_model.LinearRegression()\n",
    "model7.fit(X_train7, y_train7)"
   ]
  },
  {
   "cell_type": "code",
   "execution_count": 163,
   "id": "773bad03",
   "metadata": {},
   "outputs": [],
   "source": [
    "y_pred1 = model1.predict(X_test1)\n",
    "y_pred2 = model2.predict(X_test2)\n",
    "y_pred3 = model3.predict(X_test3)\n",
    "y_pred4 = model4.predict(X_test4)\n",
    "y_pred5 = model5.predict(X_test5)\n",
    "y_pred6 = model6.predict(X_test6)\n",
    "y_pred7 = model7.predict(X_test7)"
   ]
  },
  {
   "cell_type": "code",
   "execution_count": 164,
   "id": "ed9893ef",
   "metadata": {},
   "outputs": [
    {
     "name": "stdout",
     "output_type": "stream",
     "text": [
      "The R2 of model1 is : 0.2169226142986458\n",
      "The R2 of model2 is : 0.3665479486489851\n",
      "The R2 of model3 is : 0.4353911335007079\n",
      "The R2 of model4 is : 0.3563486421124553\n",
      "The R2 of model5 is : 0.38561478727661813\n",
      "The R2 of model6 is : 0.45941921122424334\n",
      "The R2 of model7 is : 0.4698286111356966\n"
     ]
    }
   ],
   "source": [
    "#R2 score tells how good the data has fit the regression line\n",
    "#R2 score if near to 1, the model is better\n",
    "\n",
    "r1 = r2_score(y_test1, y_pred1)\n",
    "print('The R2 of model1 is :',r1)\n",
    "\n",
    "r2 = r2_score(y_test2, y_pred2)\n",
    "print('The R2 of model2 is :',r2)\n",
    "\n",
    "r3 = r2_score(y_test3, y_pred3)\n",
    "print('The R2 of model3 is :',r3)\n",
    "\n",
    "r4 = r2_score(y_test4, y_pred4)\n",
    "print('The R2 of model4 is :',r4)\n",
    "\n",
    "r5 = r2_score(y_test5, y_pred5)\n",
    "print('The R2 of model5 is :',r5)\n",
    "\n",
    "r6 = r2_score(y_test6, y_pred6)\n",
    "print('The R2 of model6 is :',r6)\n",
    "\n",
    "r7 = r2_score(y_test7, y_pred7)\n",
    "print('The R2 of model7 is :',r7)"
   ]
  },
  {
   "cell_type": "markdown",
   "id": "adffa5ef",
   "metadata": {},
   "source": [
    "# Prediction\n",
    "As the model df7 performed well with 46.9% accurary compared to the other model, we will be predicting the rent with the model df7 which included independent variables i.e BHK, Size , Bathroom and Point of contact. \n",
    "- fOR 2 bhk, 1100Squarefeet size, 2 Bathroom and 0 Point of contact means contact owner,1st floor at 2 floored building - The rent will be 15031 per month"
   ]
  },
  {
   "cell_type": "code",
   "execution_count": 165,
   "id": "ede6abd7",
   "metadata": {},
   "outputs": [],
   "source": [
    "df_temp = pd.DataFrame([[2,1100,2,0,1,2]])"
   ]
  },
  {
   "cell_type": "code",
   "execution_count": 166,
   "id": "fd254fdc",
   "metadata": {},
   "outputs": [
    {
     "name": "stderr",
     "output_type": "stream",
     "text": [
      "/Users/nishathakur/opt/anaconda3/lib/python3.9/site-packages/sklearn/base.py:450: UserWarning: X does not have valid feature names, but LinearRegression was fitted with feature names\n",
      "  warnings.warn(\n"
     ]
    },
    {
     "data": {
      "text/plain": [
       "array([15031.29541399])"
      ]
     },
     "execution_count": 166,
     "metadata": {},
     "output_type": "execute_result"
    }
   ],
   "source": [
    "model7.predict(df_temp)"
   ]
  },
  {
   "cell_type": "code",
   "execution_count": 167,
   "id": "5a2a2139",
   "metadata": {},
   "outputs": [
    {
     "name": "stderr",
     "output_type": "stream",
     "text": [
      "/Users/nishathakur/opt/anaconda3/lib/python3.9/site-packages/sklearn/base.py:450: UserWarning: X does not have valid feature names, but LinearRegression was fitted with feature names\n",
      "  warnings.warn(\n"
     ]
    },
    {
     "data": {
      "text/plain": [
       "array([13474.46628491])"
      ]
     },
     "execution_count": 167,
     "metadata": {},
     "output_type": "execute_result"
    }
   ],
   "source": [
    "df_temp = pd.DataFrame([[1,1100,2,0,0,2]])\n",
    "model7.predict(df_temp)"
   ]
  },
  {
   "cell_type": "markdown",
   "id": "4f7bb943",
   "metadata": {},
   "source": [
    "As the Co-efficient of Determination i.e R2 of model7 (Consideration of all independent variables) is 46.9%. so we can just that it is not a good model to predict the rent.\n",
    "- As the variables are not closely correlated, it can also be reason where we couldnt predict accurate rent with model\n",
    "- The dataset contains very less data i.e 4647 rows and we require more data to predict"
   ]
  },
  {
   "cell_type": "markdown",
   "id": "c79bf210",
   "metadata": {},
   "source": [
    "# Logistic Regression\n",
    "\n",
    "As we couldnt get good accurary from the multiple linear regression, we tried doing logistic regression"
   ]
  },
  {
   "cell_type": "code",
   "execution_count": 168,
   "id": "d1ab885f",
   "metadata": {},
   "outputs": [],
   "source": [
    "import pandas as pd\n",
    "\n",
    "df = pd.read_csv('House_Rent_Dataset logistic.csv', header=0)"
   ]
  },
  {
   "cell_type": "code",
   "execution_count": 169,
   "id": "da76598f",
   "metadata": {},
   "outputs": [
    {
     "name": "stdout",
     "output_type": "stream",
     "text": [
      "<class 'pandas.core.frame.DataFrame'>\n",
      "RangeIndex: 3671 entries, 0 to 3670\n",
      "Data columns (total 12 columns):\n",
      " #   Column             Non-Null Count  Dtype\n",
      "---  ------             --------------  -----\n",
      " 0   Unnamed: 0         3671 non-null   int64\n",
      " 1   BHK                3671 non-null   int64\n",
      " 2   Rent               3671 non-null   int64\n",
      " 3   Size               3671 non-null   int64\n",
      " 4   Area_Type          3671 non-null   int64\n",
      " 5   City               3671 non-null   int64\n",
      " 6   Furnishing_Status  3671 non-null   int64\n",
      " 7   Tenant_Preferred   3671 non-null   int64\n",
      " 8   Bathroom           3671 non-null   int64\n",
      " 9   Point_of_Contact   3671 non-null   int64\n",
      " 10  Floor_Level        3671 non-null   int64\n",
      " 11  Total_Floor        3671 non-null   int64\n",
      "dtypes: int64(12)\n",
      "memory usage: 344.3 KB\n"
     ]
    }
   ],
   "source": [
    "df.info()"
   ]
  },
  {
   "cell_type": "code",
   "execution_count": 170,
   "id": "d035776c",
   "metadata": {},
   "outputs": [
    {
     "data": {
      "text/html": [
       "<div>\n",
       "<style scoped>\n",
       "    .dataframe tbody tr th:only-of-type {\n",
       "        vertical-align: middle;\n",
       "    }\n",
       "\n",
       "    .dataframe tbody tr th {\n",
       "        vertical-align: top;\n",
       "    }\n",
       "\n",
       "    .dataframe thead th {\n",
       "        text-align: right;\n",
       "    }\n",
       "</style>\n",
       "<table border=\"1\" class=\"dataframe\">\n",
       "  <thead>\n",
       "    <tr style=\"text-align: right;\">\n",
       "      <th></th>\n",
       "      <th>Unnamed: 0</th>\n",
       "      <th>BHK</th>\n",
       "      <th>Rent</th>\n",
       "      <th>Size</th>\n",
       "      <th>Area_Type</th>\n",
       "      <th>City</th>\n",
       "      <th>Furnishing_Status</th>\n",
       "      <th>Tenant_Preferred</th>\n",
       "      <th>Bathroom</th>\n",
       "      <th>Point_of_Contact</th>\n",
       "      <th>Floor_Level</th>\n",
       "      <th>Total_Floor</th>\n",
       "    </tr>\n",
       "  </thead>\n",
       "  <tbody>\n",
       "    <tr>\n",
       "      <th>count</th>\n",
       "      <td>3671.000000</td>\n",
       "      <td>3671.000000</td>\n",
       "      <td>3671.000000</td>\n",
       "      <td>3671.000000</td>\n",
       "      <td>3671.000000</td>\n",
       "      <td>3671.000000</td>\n",
       "      <td>3671.000000</td>\n",
       "      <td>3671.000000</td>\n",
       "      <td>3671.000000</td>\n",
       "      <td>3671.000000</td>\n",
       "      <td>3671.000000</td>\n",
       "      <td>3671.000000</td>\n",
       "    </tr>\n",
       "    <tr>\n",
       "      <th>mean</th>\n",
       "      <td>2504.093707</td>\n",
       "      <td>1.862708</td>\n",
       "      <td>15381.809861</td>\n",
       "      <td>787.119041</td>\n",
       "      <td>0.397984</td>\n",
       "      <td>2.781803</td>\n",
       "      <td>0.686461</td>\n",
       "      <td>0.327704</td>\n",
       "      <td>1.693816</td>\n",
       "      <td>0.186870</td>\n",
       "      <td>2.102152</td>\n",
       "      <td>4.483792</td>\n",
       "    </tr>\n",
       "    <tr>\n",
       "      <th>std</th>\n",
       "      <td>1374.988894</td>\n",
       "      <td>0.685149</td>\n",
       "      <td>8630.578385</td>\n",
       "      <td>376.342978</td>\n",
       "      <td>0.490661</td>\n",
       "      <td>1.680001</td>\n",
       "      <td>0.663185</td>\n",
       "      <td>0.622199</td>\n",
       "      <td>0.624183</td>\n",
       "      <td>0.390559</td>\n",
       "      <td>2.806410</td>\n",
       "      <td>4.504396</td>\n",
       "    </tr>\n",
       "    <tr>\n",
       "      <th>min</th>\n",
       "      <td>0.000000</td>\n",
       "      <td>1.000000</td>\n",
       "      <td>1500.000000</td>\n",
       "      <td>10.000000</td>\n",
       "      <td>0.000000</td>\n",
       "      <td>0.000000</td>\n",
       "      <td>0.000000</td>\n",
       "      <td>0.000000</td>\n",
       "      <td>1.000000</td>\n",
       "      <td>0.000000</td>\n",
       "      <td>0.000000</td>\n",
       "      <td>0.000000</td>\n",
       "    </tr>\n",
       "    <tr>\n",
       "      <th>25%</th>\n",
       "      <td>1544.500000</td>\n",
       "      <td>1.000000</td>\n",
       "      <td>9000.000000</td>\n",
       "      <td>500.000000</td>\n",
       "      <td>0.000000</td>\n",
       "      <td>2.000000</td>\n",
       "      <td>0.000000</td>\n",
       "      <td>0.000000</td>\n",
       "      <td>1.000000</td>\n",
       "      <td>0.000000</td>\n",
       "      <td>1.000000</td>\n",
       "      <td>2.000000</td>\n",
       "    </tr>\n",
       "    <tr>\n",
       "      <th>50%</th>\n",
       "      <td>2588.000000</td>\n",
       "      <td>2.000000</td>\n",
       "      <td>13000.000000</td>\n",
       "      <td>750.000000</td>\n",
       "      <td>0.000000</td>\n",
       "      <td>3.000000</td>\n",
       "      <td>1.000000</td>\n",
       "      <td>0.000000</td>\n",
       "      <td>2.000000</td>\n",
       "      <td>0.000000</td>\n",
       "      <td>1.000000</td>\n",
       "      <td>3.000000</td>\n",
       "    </tr>\n",
       "    <tr>\n",
       "      <th>75%</th>\n",
       "      <td>3660.500000</td>\n",
       "      <td>2.000000</td>\n",
       "      <td>20000.000000</td>\n",
       "      <td>1050.000000</td>\n",
       "      <td>1.000000</td>\n",
       "      <td>4.000000</td>\n",
       "      <td>1.000000</td>\n",
       "      <td>0.000000</td>\n",
       "      <td>2.000000</td>\n",
       "      <td>0.000000</td>\n",
       "      <td>3.000000</td>\n",
       "      <td>4.000000</td>\n",
       "    </tr>\n",
       "    <tr>\n",
       "      <th>max</th>\n",
       "      <td>4745.000000</td>\n",
       "      <td>6.000000</td>\n",
       "      <td>41000.000000</td>\n",
       "      <td>1730.000000</td>\n",
       "      <td>2.000000</td>\n",
       "      <td>5.000000</td>\n",
       "      <td>2.000000</td>\n",
       "      <td>2.000000</td>\n",
       "      <td>6.000000</td>\n",
       "      <td>2.000000</td>\n",
       "      <td>28.000000</td>\n",
       "      <td>40.000000</td>\n",
       "    </tr>\n",
       "  </tbody>\n",
       "</table>\n",
       "</div>"
      ],
      "text/plain": [
       "        Unnamed: 0          BHK          Rent         Size    Area_Type  \\\n",
       "count  3671.000000  3671.000000   3671.000000  3671.000000  3671.000000   \n",
       "mean   2504.093707     1.862708  15381.809861   787.119041     0.397984   \n",
       "std    1374.988894     0.685149   8630.578385   376.342978     0.490661   \n",
       "min       0.000000     1.000000   1500.000000    10.000000     0.000000   \n",
       "25%    1544.500000     1.000000   9000.000000   500.000000     0.000000   \n",
       "50%    2588.000000     2.000000  13000.000000   750.000000     0.000000   \n",
       "75%    3660.500000     2.000000  20000.000000  1050.000000     1.000000   \n",
       "max    4745.000000     6.000000  41000.000000  1730.000000     2.000000   \n",
       "\n",
       "              City  Furnishing_Status  Tenant_Preferred     Bathroom  \\\n",
       "count  3671.000000        3671.000000       3671.000000  3671.000000   \n",
       "mean      2.781803           0.686461          0.327704     1.693816   \n",
       "std       1.680001           0.663185          0.622199     0.624183   \n",
       "min       0.000000           0.000000          0.000000     1.000000   \n",
       "25%       2.000000           0.000000          0.000000     1.000000   \n",
       "50%       3.000000           1.000000          0.000000     2.000000   \n",
       "75%       4.000000           1.000000          0.000000     2.000000   \n",
       "max       5.000000           2.000000          2.000000     6.000000   \n",
       "\n",
       "       Point_of_Contact  Floor_Level  Total_Floor  \n",
       "count       3671.000000  3671.000000  3671.000000  \n",
       "mean           0.186870     2.102152     4.483792  \n",
       "std            0.390559     2.806410     4.504396  \n",
       "min            0.000000     0.000000     0.000000  \n",
       "25%            0.000000     1.000000     2.000000  \n",
       "50%            0.000000     1.000000     3.000000  \n",
       "75%            0.000000     3.000000     4.000000  \n",
       "max            2.000000    28.000000    40.000000  "
      ]
     },
     "execution_count": 170,
     "metadata": {},
     "output_type": "execute_result"
    }
   ],
   "source": [
    "df.describe()"
   ]
  },
  {
   "cell_type": "code",
   "execution_count": 171,
   "id": "298406b7",
   "metadata": {},
   "outputs": [
    {
     "data": {
      "text/html": [
       "<div>\n",
       "<style scoped>\n",
       "    .dataframe tbody tr th:only-of-type {\n",
       "        vertical-align: middle;\n",
       "    }\n",
       "\n",
       "    .dataframe tbody tr th {\n",
       "        vertical-align: top;\n",
       "    }\n",
       "\n",
       "    .dataframe thead th {\n",
       "        text-align: right;\n",
       "    }\n",
       "</style>\n",
       "<table border=\"1\" class=\"dataframe\">\n",
       "  <thead>\n",
       "    <tr style=\"text-align: right;\">\n",
       "      <th></th>\n",
       "      <th>Unnamed: 0</th>\n",
       "      <th>BHK</th>\n",
       "      <th>Rent</th>\n",
       "      <th>Size</th>\n",
       "      <th>Area_Type</th>\n",
       "      <th>City</th>\n",
       "      <th>Furnishing_Status</th>\n",
       "      <th>Tenant_Preferred</th>\n",
       "      <th>Bathroom</th>\n",
       "      <th>Point_of_Contact</th>\n",
       "      <th>Floor_Level</th>\n",
       "      <th>Total_Floor</th>\n",
       "      <th>Rent_group</th>\n",
       "    </tr>\n",
       "  </thead>\n",
       "  <tbody>\n",
       "    <tr>\n",
       "      <th>0</th>\n",
       "      <td>0</td>\n",
       "      <td>2</td>\n",
       "      <td>10000</td>\n",
       "      <td>1100</td>\n",
       "      <td>0</td>\n",
       "      <td>0</td>\n",
       "      <td>0</td>\n",
       "      <td>0</td>\n",
       "      <td>2</td>\n",
       "      <td>0</td>\n",
       "      <td>0</td>\n",
       "      <td>2</td>\n",
       "      <td>2</td>\n",
       "    </tr>\n",
       "    <tr>\n",
       "      <th>1</th>\n",
       "      <td>1</td>\n",
       "      <td>2</td>\n",
       "      <td>20000</td>\n",
       "      <td>800</td>\n",
       "      <td>0</td>\n",
       "      <td>0</td>\n",
       "      <td>1</td>\n",
       "      <td>0</td>\n",
       "      <td>1</td>\n",
       "      <td>0</td>\n",
       "      <td>1</td>\n",
       "      <td>3</td>\n",
       "      <td>4</td>\n",
       "    </tr>\n",
       "    <tr>\n",
       "      <th>2</th>\n",
       "      <td>2</td>\n",
       "      <td>2</td>\n",
       "      <td>17000</td>\n",
       "      <td>1000</td>\n",
       "      <td>0</td>\n",
       "      <td>0</td>\n",
       "      <td>1</td>\n",
       "      <td>0</td>\n",
       "      <td>1</td>\n",
       "      <td>0</td>\n",
       "      <td>1</td>\n",
       "      <td>3</td>\n",
       "      <td>4</td>\n",
       "    </tr>\n",
       "    <tr>\n",
       "      <th>3</th>\n",
       "      <td>3</td>\n",
       "      <td>2</td>\n",
       "      <td>10000</td>\n",
       "      <td>800</td>\n",
       "      <td>0</td>\n",
       "      <td>0</td>\n",
       "      <td>0</td>\n",
       "      <td>0</td>\n",
       "      <td>1</td>\n",
       "      <td>0</td>\n",
       "      <td>1</td>\n",
       "      <td>2</td>\n",
       "      <td>2</td>\n",
       "    </tr>\n",
       "    <tr>\n",
       "      <th>4</th>\n",
       "      <td>4</td>\n",
       "      <td>2</td>\n",
       "      <td>7500</td>\n",
       "      <td>850</td>\n",
       "      <td>1</td>\n",
       "      <td>0</td>\n",
       "      <td>0</td>\n",
       "      <td>1</td>\n",
       "      <td>1</td>\n",
       "      <td>0</td>\n",
       "      <td>1</td>\n",
       "      <td>2</td>\n",
       "      <td>2</td>\n",
       "    </tr>\n",
       "  </tbody>\n",
       "</table>\n",
       "</div>"
      ],
      "text/plain": [
       "   Unnamed: 0  BHK   Rent  Size  Area_Type  City  Furnishing_Status  \\\n",
       "0           0    2  10000  1100          0     0                  0   \n",
       "1           1    2  20000   800          0     0                  1   \n",
       "2           2    2  17000  1000          0     0                  1   \n",
       "3           3    2  10000   800          0     0                  0   \n",
       "4           4    2   7500   850          1     0                  0   \n",
       "\n",
       "   Tenant_Preferred  Bathroom  Point_of_Contact  Floor_Level  Total_Floor  \\\n",
       "0                 0         2                 0            0            2   \n",
       "1                 0         1                 0            1            3   \n",
       "2                 0         1                 0            1            3   \n",
       "3                 0         1                 0            1            2   \n",
       "4                 1         1                 0            1            2   \n",
       "\n",
       "  Rent_group  \n",
       "0          2  \n",
       "1          4  \n",
       "2          4  \n",
       "3          2  \n",
       "4          2  "
      ]
     },
     "execution_count": 171,
     "metadata": {},
     "output_type": "execute_result"
    }
   ],
   "source": [
    "df.loc[df['Rent'].between(1500,6500), 'Rent_group'] = '1'\n",
    "df.loc[df['Rent'].between(6500,11500), 'Rent_group'] = '2'\n",
    "df.loc[df['Rent'].between(11500,16500), 'Rent_group'] = '3'\n",
    "df.loc[df['Rent'].between(16500,21500), 'Rent_group'] = '4'\n",
    "df.loc[df['Rent'].between(21500,26500), 'Rent_group'] = '5'\n",
    "df.loc[df['Rent'].between(26500,31500), 'Rent_group'] = '6'\n",
    "df.loc[df['Rent'].between(31500,36500), 'Rent_group'] = '7'\n",
    "df.loc[df['Rent'].between(36500,41500), 'Rent_group'] = '8'\n",
    "df.head()"
   ]
  },
  {
   "cell_type": "code",
   "execution_count": 172,
   "id": "2c6486fc",
   "metadata": {},
   "outputs": [],
   "source": [
    "df = df[['BHK','Rent','Rent_group','Size','Area_Type', 'City','Furnishing_Status','Tenant_Preferred','Bathroom', 'Point_of_Contact','Floor_Level','Total_Floor']]"
   ]
  },
  {
   "cell_type": "code",
   "execution_count": 173,
   "id": "86d4c6e9",
   "metadata": {},
   "outputs": [],
   "source": [
    "import pandas as pd\n",
    "\n",
    "df.drop(['Rent'],axis=1,inplace= True)"
   ]
  },
  {
   "cell_type": "code",
   "execution_count": 174,
   "id": "3c204ec9",
   "metadata": {},
   "outputs": [
    {
     "data": {
      "text/html": [
       "<div>\n",
       "<style scoped>\n",
       "    .dataframe tbody tr th:only-of-type {\n",
       "        vertical-align: middle;\n",
       "    }\n",
       "\n",
       "    .dataframe tbody tr th {\n",
       "        vertical-align: top;\n",
       "    }\n",
       "\n",
       "    .dataframe thead th {\n",
       "        text-align: right;\n",
       "    }\n",
       "</style>\n",
       "<table border=\"1\" class=\"dataframe\">\n",
       "  <thead>\n",
       "    <tr style=\"text-align: right;\">\n",
       "      <th></th>\n",
       "      <th>BHK</th>\n",
       "      <th>Rent_group</th>\n",
       "      <th>Size</th>\n",
       "      <th>Area_Type</th>\n",
       "      <th>City</th>\n",
       "      <th>Furnishing_Status</th>\n",
       "      <th>Tenant_Preferred</th>\n",
       "      <th>Bathroom</th>\n",
       "      <th>Point_of_Contact</th>\n",
       "      <th>Floor_Level</th>\n",
       "      <th>Total_Floor</th>\n",
       "    </tr>\n",
       "  </thead>\n",
       "  <tbody>\n",
       "    <tr>\n",
       "      <th>0</th>\n",
       "      <td>2</td>\n",
       "      <td>2</td>\n",
       "      <td>1100</td>\n",
       "      <td>0</td>\n",
       "      <td>0</td>\n",
       "      <td>0</td>\n",
       "      <td>0</td>\n",
       "      <td>2</td>\n",
       "      <td>0</td>\n",
       "      <td>0</td>\n",
       "      <td>2</td>\n",
       "    </tr>\n",
       "    <tr>\n",
       "      <th>1</th>\n",
       "      <td>2</td>\n",
       "      <td>4</td>\n",
       "      <td>800</td>\n",
       "      <td>0</td>\n",
       "      <td>0</td>\n",
       "      <td>1</td>\n",
       "      <td>0</td>\n",
       "      <td>1</td>\n",
       "      <td>0</td>\n",
       "      <td>1</td>\n",
       "      <td>3</td>\n",
       "    </tr>\n",
       "    <tr>\n",
       "      <th>2</th>\n",
       "      <td>2</td>\n",
       "      <td>4</td>\n",
       "      <td>1000</td>\n",
       "      <td>0</td>\n",
       "      <td>0</td>\n",
       "      <td>1</td>\n",
       "      <td>0</td>\n",
       "      <td>1</td>\n",
       "      <td>0</td>\n",
       "      <td>1</td>\n",
       "      <td>3</td>\n",
       "    </tr>\n",
       "    <tr>\n",
       "      <th>3</th>\n",
       "      <td>2</td>\n",
       "      <td>2</td>\n",
       "      <td>800</td>\n",
       "      <td>0</td>\n",
       "      <td>0</td>\n",
       "      <td>0</td>\n",
       "      <td>0</td>\n",
       "      <td>1</td>\n",
       "      <td>0</td>\n",
       "      <td>1</td>\n",
       "      <td>2</td>\n",
       "    </tr>\n",
       "    <tr>\n",
       "      <th>4</th>\n",
       "      <td>2</td>\n",
       "      <td>2</td>\n",
       "      <td>850</td>\n",
       "      <td>1</td>\n",
       "      <td>0</td>\n",
       "      <td>0</td>\n",
       "      <td>1</td>\n",
       "      <td>1</td>\n",
       "      <td>0</td>\n",
       "      <td>1</td>\n",
       "      <td>2</td>\n",
       "    </tr>\n",
       "  </tbody>\n",
       "</table>\n",
       "</div>"
      ],
      "text/plain": [
       "   BHK Rent_group  Size  Area_Type  City  Furnishing_Status  Tenant_Preferred  \\\n",
       "0    2          2  1100          0     0                  0                 0   \n",
       "1    2          4   800          0     0                  1                 0   \n",
       "2    2          4  1000          0     0                  1                 0   \n",
       "3    2          2   800          0     0                  0                 0   \n",
       "4    2          2   850          1     0                  0                 1   \n",
       "\n",
       "   Bathroom  Point_of_Contact  Floor_Level  Total_Floor  \n",
       "0         2                 0            0            2  \n",
       "1         1                 0            1            3  \n",
       "2         1                 0            1            3  \n",
       "3         1                 0            1            2  \n",
       "4         1                 0            1            2  "
      ]
     },
     "execution_count": 174,
     "metadata": {},
     "output_type": "execute_result"
    }
   ],
   "source": [
    "df.head()"
   ]
  },
  {
   "cell_type": "code",
   "execution_count": 175,
   "id": "6500ff33",
   "metadata": {},
   "outputs": [],
   "source": [
    "import pandas as pd\n",
    "import numpy as np\n",
    "from sklearn.model_selection import train_test_split\n",
    "from sklearn import linear_model\n",
    "from sklearn.linear_model import LogisticRegression\n",
    "from sklearn.metrics import classification_report\n",
    "from sklearn import metrics\n",
    "import matplotlib.pyplot as plt\n",
    "from sklearn.metrics import r2_score"
   ]
  },
  {
   "cell_type": "code",
   "execution_count": 176,
   "id": "2f153d2a",
   "metadata": {},
   "outputs": [],
   "source": [
    "X = df[['BHK', 'Size', 'Bathroom', 'Area_Type', 'Furnishing_Status', 'Tenant_Preferred', 'Point_of_Contact', 'City']]\n",
    "y = df['Rent_group']"
   ]
  },
  {
   "cell_type": "code",
   "execution_count": 177,
   "id": "10bcb2eb",
   "metadata": {},
   "outputs": [],
   "source": [
    "X_train,X_test,y_train,y_test = train_test_split(X,y,test_size=0.1,random_state=0) "
   ]
  },
  {
   "cell_type": "code",
   "execution_count": 178,
   "id": "5f22dc60",
   "metadata": {},
   "outputs": [
    {
     "name": "stdout",
     "output_type": "stream",
     "text": [
      "['3' '2' '2' '2' '2' '3' '2' '3' '3' '3' '3' '3' '3' '2' '2' '2' '2' '2'\n",
      " '7' '2' '2' '3' '3' '2' '2' '7' '2' '2' '3' '3' '3' '3' '2' '3' '4' '2'\n",
      " '2' '2' '2' '3' '3' '2' '2' '3' '3' '3' '2' '2' '3' '3' '2' '7' '2' '2'\n",
      " '3' '3' '3' '3' '3' '2' '2' '2' '3' '3' '3' '3' '2' '3' '3' '3' '2' '3'\n",
      " '2' '2' '3' '3' '3' '3' '2' '3' '2' '3' '2' '3' '2' '3' '3' '3' '7' '4'\n",
      " '2' '3' '2' '2' '2' '3' '2' '3' '3' '3' '2' '2' '2' '3' '3' '3' '3' '3'\n",
      " '7' '7' '3' '2' '2' '2' '2' '2' '2' '2' '2' '6' '2' '3' '7' '3' '3' '2'\n",
      " '3' '3' '2' '3' '3' '7' '3' '2' '2' '3' '2' '3' '2' '2' '2' '7' '2' '7'\n",
      " '2' '3' '7' '2' '3' '2' '2' '3' '2' '2' '3' '2' '3' '3' '2' '7' '2' '3'\n",
      " '2' '3' '2' '3' '3' '3' '3' '7' '2' '3' '3' '7' '7' '2' '2' '2' '2' '2'\n",
      " '2' '2' '3' '2' '2' '2' '2' '2' '2' '5' '2' '2' '2' '2' '3' '3' '2' '3'\n",
      " '2' '2' '3' '2' '2' '3' '3' '2' '2' '2' '3' '3' '2' '2' '2' '2' '2' '2'\n",
      " '6' '2' '3' '2' '2' '2' '3' '2' '3' '3' '2' '2' '3' '3' '3' '3' '2' '2'\n",
      " '3' '3' '3' '2' '3' '2' '3' '2' '5' '2' '2' '7' '2' '2' '2' '2' '2' '3'\n",
      " '7' '3' '4' '2' '7' '2' '2' '3' '3' '2' '2' '2' '2' '2' '3' '2' '2' '2'\n",
      " '2' '2' '2' '3' '3' '6' '3' '3' '2' '7' '2' '3' '2' '2' '3' '3' '3' '3'\n",
      " '3' '3' '2' '2' '3' '2' '3' '2' '3' '3' '2' '2' '2' '6' '3' '3' '2' '2'\n",
      " '2' '2' '3' '2' '3' '3' '3' '2' '3' '3' '2' '2' '6' '2' '2' '2' '7' '3'\n",
      " '3' '3' '2' '2' '2' '2' '2' '2' '2' '3' '2' '2' '3' '2' '3' '2' '2' '2'\n",
      " '3' '3' '2' '3' '2' '2' '3' '3' '2' '3' '3' '3' '2' '2' '3' '2' '2' '3'\n",
      " '3' '3' '3' '3' '3' '3' '2' '2']\n"
     ]
    },
    {
     "name": "stderr",
     "output_type": "stream",
     "text": [
      "/Users/nishathakur/opt/anaconda3/lib/python3.9/site-packages/sklearn/linear_model/_logistic.py:814: ConvergenceWarning: lbfgs failed to converge (status=1):\n",
      "STOP: TOTAL NO. of ITERATIONS REACHED LIMIT.\n",
      "\n",
      "Increase the number of iterations (max_iter) or scale the data as shown in:\n",
      "    https://scikit-learn.org/stable/modules/preprocessing.html\n",
      "Please also refer to the documentation for alternative solver options:\n",
      "    https://scikit-learn.org/stable/modules/linear_model.html#logistic-regression\n",
      "  n_iter_i = _check_optimize_result(\n"
     ]
    }
   ],
   "source": [
    "log_regression = LogisticRegression()\n",
    "log_regression.fit(X_train,y_train)\n",
    "pred = log_regression.predict(X_test)\n",
    "print(pred)"
   ]
  },
  {
   "cell_type": "code",
   "execution_count": 179,
   "id": "3b543561",
   "metadata": {},
   "outputs": [
    {
     "data": {
      "text/plain": [
       "0.29347826086956524"
      ]
     },
     "execution_count": 179,
     "metadata": {},
     "output_type": "execute_result"
    }
   ],
   "source": [
    "from sklearn.metrics import accuracy_score\n",
    "accuracy_score(y_test, pred)"
   ]
  },
  {
   "cell_type": "code",
   "execution_count": 180,
   "id": "0b821736",
   "metadata": {},
   "outputs": [
    {
     "name": "stdout",
     "output_type": "stream",
     "text": [
      "['3']\n"
     ]
    },
    {
     "name": "stderr",
     "output_type": "stream",
     "text": [
      "/Users/nishathakur/opt/anaconda3/lib/python3.9/site-packages/sklearn/base.py:450: UserWarning: X does not have valid feature names, but LogisticRegression was fitted with feature names\n",
      "  warnings.warn(\n"
     ]
    }
   ],
   "source": [
    "#test prediction \n",
    "pred_single = log_regression.predict([[2,800,2,1,1,0,0,1]])\n",
    "print(pred_single)"
   ]
  },
  {
   "cell_type": "code",
   "execution_count": 181,
   "id": "95c89dab",
   "metadata": {},
   "outputs": [
    {
     "name": "stdout",
     "output_type": "stream",
     "text": [
      "              precision    recall  f1-score   support\n",
      "\n",
      "           1       0.00      0.00      0.00        30\n",
      "           2       0.38      0.61      0.47       114\n",
      "           3       0.25      0.39      0.31        97\n",
      "           4       0.00      0.00      0.00        47\n",
      "           5       0.00      0.00      0.00        36\n",
      "           6       0.00      0.00      0.00        14\n",
      "           7       0.00      0.00      0.00        13\n",
      "           8       0.00      0.00      0.00        17\n",
      "\n",
      "    accuracy                           0.29       368\n",
      "   macro avg       0.08      0.13      0.10       368\n",
      "weighted avg       0.18      0.29      0.23       368\n",
      "\n"
     ]
    },
    {
     "name": "stderr",
     "output_type": "stream",
     "text": [
      "/Users/nishathakur/opt/anaconda3/lib/python3.9/site-packages/sklearn/metrics/_classification.py:1318: UndefinedMetricWarning: Precision and F-score are ill-defined and being set to 0.0 in labels with no predicted samples. Use `zero_division` parameter to control this behavior.\n",
      "  _warn_prf(average, modifier, msg_start, len(result))\n",
      "/Users/nishathakur/opt/anaconda3/lib/python3.9/site-packages/sklearn/metrics/_classification.py:1318: UndefinedMetricWarning: Precision and F-score are ill-defined and being set to 0.0 in labels with no predicted samples. Use `zero_division` parameter to control this behavior.\n",
      "  _warn_prf(average, modifier, msg_start, len(result))\n",
      "/Users/nishathakur/opt/anaconda3/lib/python3.9/site-packages/sklearn/metrics/_classification.py:1318: UndefinedMetricWarning: Precision and F-score are ill-defined and being set to 0.0 in labels with no predicted samples. Use `zero_division` parameter to control this behavior.\n",
      "  _warn_prf(average, modifier, msg_start, len(result))\n"
     ]
    }
   ],
   "source": [
    "from sklearn.metrics import classification_report\n",
    "print(classification_report(y_test, pred))"
   ]
  },
  {
   "cell_type": "code",
   "execution_count": 182,
   "id": "3c370a59",
   "metadata": {},
   "outputs": [
    {
     "name": "stdout",
     "output_type": "stream",
     "text": [
      "The R2 of model7 is : -0.4533135396444752\n"
     ]
    }
   ],
   "source": [
    "r7 = r2_score(y_test, pred)\n",
    "print('The R2 of model7 is :',r7)"
   ]
  },
  {
   "cell_type": "code",
   "execution_count": 183,
   "id": "9a3a97fa",
   "metadata": {},
   "outputs": [
    {
     "name": "stdout",
     "output_type": "stream",
     "text": [
      "chi square statistic:  956.9682994634044\n",
      "pvalue:  3.143001943462038e-178\n",
      "degree of freedom:  35\n",
      "expected values:  [[1.00625443e+02 1.77717516e+02 5.04028875e+01 2.07382185e+00\n",
      "  9.01661673e-02 9.01661673e-02]\n",
      " [3.40484882e+02 6.01340234e+02 1.70547535e+02 7.01716154e+00\n",
      "  3.05093980e-01 3.05093980e-01]\n",
      " [2.96100245e+02 5.22951239e+02 1.48315445e+02 6.10242441e+00\n",
      "  2.65322800e-01 2.65322800e-01]\n",
      " [1.46226096e+02 2.58254154e+02 7.32440752e+01 3.01362027e+00\n",
      "  1.31026968e-01 1.31026968e-01]\n",
      " [9.94094252e+01 1.75569872e+02 4.97937892e+01 2.04876056e+00\n",
      "  8.90765459e-02 8.90765459e-02]\n",
      " [4.92487061e+01 8.69795696e+01 2.46684827e+01 1.01498229e+00\n",
      "  4.41296649e-02 4.41296649e-02]\n",
      " [5.16807409e+01 9.12748570e+01 2.58866794e+01 1.06510488e+00\n",
      "  4.63089077e-02 4.63089077e-02]\n",
      " [3.22244620e+01 5.69125579e+01 1.61411060e+01 6.64124217e-01\n",
      "  2.88749659e-02 2.88749659e-02]]\n"
     ]
    }
   ],
   "source": [
    "#chi-square test for hypothesis testing\n",
    "import pandas as pd \n",
    "from scipy.stats import chi2_contingency\n",
    "\n",
    "contingency_table = pd.crosstab(df['Rent_group'], df['BHK'])\n",
    "c, p, dof, expected = chi2_contingency(contingency_table)\n",
    "print('chi square statistic: ', c)\n",
    "print('pvalue: ' ,p)\n",
    "print('degree of freedom: ', dof)\n",
    "print('expected values: ', expected)"
   ]
  },
  {
   "cell_type": "code",
   "execution_count": 184,
   "id": "e755a54c",
   "metadata": {},
   "outputs": [
    {
     "ename": "ValueError",
     "evalue": "multiclass format is not supported",
     "output_type": "error",
     "traceback": [
      "\u001b[0;31m---------------------------------------------------------------------------\u001b[0m",
      "\u001b[0;31mValueError\u001b[0m                                Traceback (most recent call last)",
      "Input \u001b[0;32mIn [184]\u001b[0m, in \u001b[0;36m<cell line: 6>\u001b[0;34m()\u001b[0m\n\u001b[1;32m      4\u001b[0m \u001b[38;5;28;01mfrom\u001b[39;00m \u001b[38;5;21;01mmatplotlib\u001b[39;00m \u001b[38;5;28;01mimport\u001b[39;00m pyplot\n\u001b[1;32m      5\u001b[0m \u001b[38;5;66;03m# calculate roc curves\u001b[39;00m\n\u001b[0;32m----> 6\u001b[0m fpr, tpr, thresholds \u001b[38;5;241m=\u001b[39m \u001b[43mroc_curve\u001b[49m\u001b[43m(\u001b[49m\u001b[43mdf\u001b[49m\u001b[43m[\u001b[49m\u001b[38;5;124;43m'\u001b[39;49m\u001b[38;5;124;43mRent_group\u001b[39;49m\u001b[38;5;124;43m'\u001b[39;49m\u001b[43m]\u001b[49m\u001b[43m,\u001b[49m\u001b[43m \u001b[49m\u001b[43mdf\u001b[49m\u001b[43m[\u001b[49m\u001b[38;5;124;43m'\u001b[39;49m\u001b[38;5;124;43mArea_Type\u001b[39;49m\u001b[38;5;124;43m'\u001b[39;49m\u001b[43m]\u001b[49m\u001b[43m)\u001b[49m\n\u001b[1;32m      7\u001b[0m \u001b[38;5;66;03m# plot the roc curve for the model\u001b[39;00m\n\u001b[1;32m      8\u001b[0m pyplot\u001b[38;5;241m.\u001b[39mplot(fpr, tpr, marker\u001b[38;5;241m=\u001b[39m\u001b[38;5;124m'\u001b[39m\u001b[38;5;124m.\u001b[39m\u001b[38;5;124m'\u001b[39m, label\u001b[38;5;241m=\u001b[39m\u001b[38;5;124m'\u001b[39m\u001b[38;5;124mLogistic\u001b[39m\u001b[38;5;124m'\u001b[39m)\n",
      "File \u001b[0;32m~/opt/anaconda3/lib/python3.9/site-packages/sklearn/metrics/_ranking.py:962\u001b[0m, in \u001b[0;36mroc_curve\u001b[0;34m(y_true, y_score, pos_label, sample_weight, drop_intermediate)\u001b[0m\n\u001b[1;32m    873\u001b[0m \u001b[38;5;28;01mdef\u001b[39;00m \u001b[38;5;21mroc_curve\u001b[39m(\n\u001b[1;32m    874\u001b[0m     y_true, y_score, \u001b[38;5;241m*\u001b[39m, pos_label\u001b[38;5;241m=\u001b[39m\u001b[38;5;28;01mNone\u001b[39;00m, sample_weight\u001b[38;5;241m=\u001b[39m\u001b[38;5;28;01mNone\u001b[39;00m, drop_intermediate\u001b[38;5;241m=\u001b[39m\u001b[38;5;28;01mTrue\u001b[39;00m\n\u001b[1;32m    875\u001b[0m ):\n\u001b[1;32m    876\u001b[0m     \u001b[38;5;124;03m\"\"\"Compute Receiver operating characteristic (ROC).\u001b[39;00m\n\u001b[1;32m    877\u001b[0m \n\u001b[1;32m    878\u001b[0m \u001b[38;5;124;03m    Note: this implementation is restricted to the binary classification task.\u001b[39;00m\n\u001b[0;32m   (...)\u001b[0m\n\u001b[1;32m    960\u001b[0m \n\u001b[1;32m    961\u001b[0m \u001b[38;5;124;03m    \"\"\"\u001b[39;00m\n\u001b[0;32m--> 962\u001b[0m     fps, tps, thresholds \u001b[38;5;241m=\u001b[39m \u001b[43m_binary_clf_curve\u001b[49m\u001b[43m(\u001b[49m\n\u001b[1;32m    963\u001b[0m \u001b[43m        \u001b[49m\u001b[43my_true\u001b[49m\u001b[43m,\u001b[49m\u001b[43m \u001b[49m\u001b[43my_score\u001b[49m\u001b[43m,\u001b[49m\u001b[43m \u001b[49m\u001b[43mpos_label\u001b[49m\u001b[38;5;241;43m=\u001b[39;49m\u001b[43mpos_label\u001b[49m\u001b[43m,\u001b[49m\u001b[43m \u001b[49m\u001b[43msample_weight\u001b[49m\u001b[38;5;241;43m=\u001b[39;49m\u001b[43msample_weight\u001b[49m\n\u001b[1;32m    964\u001b[0m \u001b[43m    \u001b[49m\u001b[43m)\u001b[49m\n\u001b[1;32m    966\u001b[0m     \u001b[38;5;66;03m# Attempt to drop thresholds corresponding to points in between and\u001b[39;00m\n\u001b[1;32m    967\u001b[0m     \u001b[38;5;66;03m# collinear with other points. These are always suboptimal and do not\u001b[39;00m\n\u001b[1;32m    968\u001b[0m     \u001b[38;5;66;03m# appear on a plotted ROC curve (and thus do not affect the AUC).\u001b[39;00m\n\u001b[0;32m   (...)\u001b[0m\n\u001b[1;32m    973\u001b[0m     \u001b[38;5;66;03m# but does not drop more complicated cases like fps = [1, 3, 7],\u001b[39;00m\n\u001b[1;32m    974\u001b[0m     \u001b[38;5;66;03m# tps = [1, 2, 4]; there is no harm in keeping too many thresholds.\u001b[39;00m\n\u001b[1;32m    975\u001b[0m     \u001b[38;5;28;01mif\u001b[39;00m drop_intermediate \u001b[38;5;129;01mand\u001b[39;00m \u001b[38;5;28mlen\u001b[39m(fps) \u001b[38;5;241m>\u001b[39m \u001b[38;5;241m2\u001b[39m:\n",
      "File \u001b[0;32m~/opt/anaconda3/lib/python3.9/site-packages/sklearn/metrics/_ranking.py:731\u001b[0m, in \u001b[0;36m_binary_clf_curve\u001b[0;34m(y_true, y_score, pos_label, sample_weight)\u001b[0m\n\u001b[1;32m    729\u001b[0m y_type \u001b[38;5;241m=\u001b[39m type_of_target(y_true)\n\u001b[1;32m    730\u001b[0m \u001b[38;5;28;01mif\u001b[39;00m \u001b[38;5;129;01mnot\u001b[39;00m (y_type \u001b[38;5;241m==\u001b[39m \u001b[38;5;124m\"\u001b[39m\u001b[38;5;124mbinary\u001b[39m\u001b[38;5;124m\"\u001b[39m \u001b[38;5;129;01mor\u001b[39;00m (y_type \u001b[38;5;241m==\u001b[39m \u001b[38;5;124m\"\u001b[39m\u001b[38;5;124mmulticlass\u001b[39m\u001b[38;5;124m\"\u001b[39m \u001b[38;5;129;01mand\u001b[39;00m pos_label \u001b[38;5;129;01mis\u001b[39;00m \u001b[38;5;129;01mnot\u001b[39;00m \u001b[38;5;28;01mNone\u001b[39;00m)):\n\u001b[0;32m--> 731\u001b[0m     \u001b[38;5;28;01mraise\u001b[39;00m \u001b[38;5;167;01mValueError\u001b[39;00m(\u001b[38;5;124m\"\u001b[39m\u001b[38;5;132;01m{0}\u001b[39;00m\u001b[38;5;124m format is not supported\u001b[39m\u001b[38;5;124m\"\u001b[39m\u001b[38;5;241m.\u001b[39mformat(y_type))\n\u001b[1;32m    733\u001b[0m check_consistent_length(y_true, y_score, sample_weight)\n\u001b[1;32m    734\u001b[0m y_true \u001b[38;5;241m=\u001b[39m column_or_1d(y_true)\n",
      "\u001b[0;31mValueError\u001b[0m: multiclass format is not supported"
     ]
    }
   ],
   "source": [
    "#ROC curve\n",
    "from sklearn.metrics import roc_curve\n",
    "from sklearn.metrics import roc_auc_score\n",
    "from matplotlib import pyplot\n",
    "# calculate roc curves\n",
    "fpr, tpr, thresholds = roc_curve(df['Rent_group'], df['Area_Type'])\n",
    "# plot the roc curve for the model\n",
    "pyplot.plot(fpr, tpr, marker='.', label='Logistic')\n",
    "# axis labels\n",
    "pyplot.xlabel('False Positive Rate')\n",
    "pyplot.ylabel('True Positive Rate')\n",
    "# show the legend\n",
    "pyplot.legend()\n",
    "# show the plot\n",
    "pyplot.show()"
   ]
  },
  {
   "cell_type": "code",
   "execution_count": 185,
   "id": "8f0b036f",
   "metadata": {},
   "outputs": [
    {
     "name": "stdout",
     "output_type": "stream",
     "text": [
      "F-Value:  16000.44015843099 P-Value:  0.0\n"
     ]
    }
   ],
   "source": [
    "from scipy import stats\n",
    "import scipy.stats as stats\n",
    "from scipy.stats import f_oneway\n",
    "\n",
    "fvalue, pvalue = stats.f_oneway(df['Rent_group'], df['BHK'], df['Size'], df['Bathroom'], df['Area_Type'], df['Furnishing_Status'], df['Tenant_Preferred'], df['Point_of_Contact'], df['City'])\n",
    "print('F-Value: ', fvalue, 'P-Value: ', pvalue)"
   ]
  },
  {
   "cell_type": "code",
   "execution_count": null,
   "id": "04213086",
   "metadata": {},
   "outputs": [],
   "source": []
  },
  {
   "cell_type": "code",
   "execution_count": null,
   "id": "d66f4a58",
   "metadata": {},
   "outputs": [],
   "source": []
  }
 ],
 "metadata": {
  "kernelspec": {
   "display_name": "Python 3 (ipykernel)",
   "language": "python",
   "name": "python3"
  },
  "language_info": {
   "codemirror_mode": {
    "name": "ipython",
    "version": 3
   },
   "file_extension": ".py",
   "mimetype": "text/x-python",
   "name": "python",
   "nbconvert_exporter": "python",
   "pygments_lexer": "ipython3",
   "version": "3.9.12"
  }
 },
 "nbformat": 4,
 "nbformat_minor": 5
}
